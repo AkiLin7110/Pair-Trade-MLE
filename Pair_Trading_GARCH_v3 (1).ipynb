{
 "cells": [
  {
   "cell_type": "code",
   "execution_count": 1,
   "metadata": {
    "ExecuteTime": {
     "end_time": "2023-01-05T15:44:22.678123Z",
     "start_time": "2023-01-05T15:44:22.673698Z"
    }
   },
   "outputs": [],
   "source": [
    "import pandas as pd\n",
    "import numpy as np\n",
    "\n",
    "import math\n",
    "import scipy.optimize as opt\n"
   ]
  },
  {
   "cell_type": "code",
   "execution_count": 2,
   "metadata": {
    "ExecuteTime": {
     "end_time": "2023-01-05T15:44:29.097329Z",
     "start_time": "2023-01-05T15:44:23.247376Z"
    }
   },
   "outputs": [],
   "source": [
    "# Data: Close\n",
    "db = pd.read_excel('Data.xlsx', index_col = \"Date\")"
   ]
  },
  {
   "cell_type": "markdown",
   "metadata": {},
   "source": [
    "# MSD"
   ]
  },
  {
   "cell_type": "code",
   "execution_count": 3,
   "metadata": {
    "ExecuteTime": {
     "end_time": "2023-01-05T15:44:33.068514Z",
     "start_time": "2023-01-05T15:44:33.028412Z"
    }
   },
   "outputs": [],
   "source": [
    "db.index = pd.to_datetime(db.index)\n",
    "MSD_df = db['2006':'2013']\n",
    "MSD_df = (MSD_df-MSD_df.mean())/MSD_df.std() #change rolling\n",
    "MSD_df = MSD_df.dropna(axis = 1) #drop nan"
   ]
  },
  {
   "cell_type": "code",
   "execution_count": 4,
   "metadata": {
    "ExecuteTime": {
     "end_time": "2023-01-05T15:44:34.016177Z",
     "start_time": "2023-01-05T15:44:33.801218Z"
    }
   },
   "outputs": [],
   "source": [
    "target = {}\n",
    "for i in range(0,len(MSD_df.columns)-1):\n",
    "    for j in range(i+1,len(MSD_df.columns)):\n",
    "        tmp = ((MSD_df.iloc[:,i] - MSD_df.iloc[:,j])**2).sum()\n",
    "        target[str(MSD_df.columns[i])+','+str(MSD_df.columns[j])] = tmp"
   ]
  },
  {
   "cell_type": "code",
   "execution_count": 5,
   "metadata": {
    "ExecuteTime": {
     "end_time": "2023-01-05T15:44:34.739775Z",
     "start_time": "2023-01-05T15:44:34.723618Z"
    }
   },
   "outputs": [
    {
     "data": {
      "text/html": [
       "<div>\n",
       "<style scoped>\n",
       "    .dataframe tbody tr th:only-of-type {\n",
       "        vertical-align: middle;\n",
       "    }\n",
       "\n",
       "    .dataframe tbody tr th {\n",
       "        vertical-align: top;\n",
       "    }\n",
       "\n",
       "    .dataframe thead th {\n",
       "        text-align: right;\n",
       "    }\n",
       "</style>\n",
       "<table border=\"1\" class=\"dataframe\">\n",
       "  <thead>\n",
       "    <tr style=\"text-align: right;\">\n",
       "      <th></th>\n",
       "      <th>0</th>\n",
       "    </tr>\n",
       "  </thead>\n",
       "  <tbody>\n",
       "    <tr>\n",
       "      <th>DIS,TRV</th>\n",
       "      <td>106.019533</td>\n",
       "    </tr>\n",
       "    <tr>\n",
       "      <th>IBM,MCD</th>\n",
       "      <td>174.553811</td>\n",
       "    </tr>\n",
       "    <tr>\n",
       "      <th>AAPL,IBM</th>\n",
       "      <td>183.653680</td>\n",
       "    </tr>\n",
       "    <tr>\n",
       "      <th>CVX,KO</th>\n",
       "      <td>205.031258</td>\n",
       "    </tr>\n",
       "    <tr>\n",
       "      <th>IBM,KO</th>\n",
       "      <td>225.295065</td>\n",
       "    </tr>\n",
       "    <tr>\n",
       "      <th>DIS,HD</th>\n",
       "      <td>264.348677</td>\n",
       "    </tr>\n",
       "    <tr>\n",
       "      <th>HD,TRV</th>\n",
       "      <td>282.786437</td>\n",
       "    </tr>\n",
       "    <tr>\n",
       "      <th>PEP,PG</th>\n",
       "      <td>298.596370</td>\n",
       "    </tr>\n",
       "    <tr>\n",
       "      <th>DIS,MMM</th>\n",
       "      <td>300.548727</td>\n",
       "    </tr>\n",
       "    <tr>\n",
       "      <th>GOOGL,TRV</th>\n",
       "      <td>304.718140</td>\n",
       "    </tr>\n",
       "  </tbody>\n",
       "</table>\n",
       "</div>"
      ],
      "text/plain": [
       "                    0\n",
       "DIS,TRV    106.019533\n",
       "IBM,MCD    174.553811\n",
       "AAPL,IBM   183.653680\n",
       "CVX,KO     205.031258\n",
       "IBM,KO     225.295065\n",
       "DIS,HD     264.348677\n",
       "HD,TRV     282.786437\n",
       "PEP,PG     298.596370\n",
       "DIS,MMM    300.548727\n",
       "GOOGL,TRV  304.718140"
      ]
     },
     "execution_count": 5,
     "metadata": {},
     "output_type": "execute_result"
    }
   ],
   "source": [
    "target_df = pd.DataFrame.from_dict(target, orient='index')\n",
    "target_df = target_df.sort_values(by = 0)[0:10]\n",
    "target_df"
   ]
  },
  {
   "cell_type": "code",
   "execution_count": 6,
   "metadata": {
    "ExecuteTime": {
     "end_time": "2023-01-05T15:44:38.065857Z",
     "start_time": "2023-01-05T15:44:38.030914Z"
    }
   },
   "outputs": [
    {
     "data": {
      "text/html": [
       "<div>\n",
       "<style scoped>\n",
       "    .dataframe tbody tr th:only-of-type {\n",
       "        vertical-align: middle;\n",
       "    }\n",
       "\n",
       "    .dataframe tbody tr th {\n",
       "        vertical-align: top;\n",
       "    }\n",
       "\n",
       "    .dataframe thead th {\n",
       "        text-align: right;\n",
       "    }\n",
       "</style>\n",
       "<table border=\"1\" class=\"dataframe\">\n",
       "  <thead>\n",
       "    <tr style=\"text-align: right;\">\n",
       "      <th></th>\n",
       "      <th>DIS</th>\n",
       "      <th>TRV</th>\n",
       "    </tr>\n",
       "    <tr>\n",
       "      <th>Date</th>\n",
       "      <th></th>\n",
       "      <th></th>\n",
       "    </tr>\n",
       "  </thead>\n",
       "  <tbody>\n",
       "    <tr>\n",
       "      <th>2006-01-04</th>\n",
       "      <td>-0.016803</td>\n",
       "      <td>0.011089</td>\n",
       "    </tr>\n",
       "    <tr>\n",
       "      <th>2006-01-05</th>\n",
       "      <td>0.017507</td>\n",
       "      <td>0.009677</td>\n",
       "    </tr>\n",
       "    <tr>\n",
       "      <th>2006-01-06</th>\n",
       "      <td>0.013519</td>\n",
       "      <td>0.005538</td>\n",
       "    </tr>\n",
       "    <tr>\n",
       "      <th>2006-01-09</th>\n",
       "      <td>0.010509</td>\n",
       "      <td>0.000424</td>\n",
       "    </tr>\n",
       "    <tr>\n",
       "      <th>2006-01-10</th>\n",
       "      <td>0.012800</td>\n",
       "      <td>-0.007199</td>\n",
       "    </tr>\n",
       "    <tr>\n",
       "      <th>...</th>\n",
       "      <td>...</td>\n",
       "      <td>...</td>\n",
       "    </tr>\n",
       "    <tr>\n",
       "      <th>2013-12-24</th>\n",
       "      <td>0.007778</td>\n",
       "      <td>0.003701</td>\n",
       "    </tr>\n",
       "    <tr>\n",
       "      <th>2013-12-26</th>\n",
       "      <td>0.010427</td>\n",
       "      <td>0.005811</td>\n",
       "    </tr>\n",
       "    <tr>\n",
       "      <th>2013-12-27</th>\n",
       "      <td>-0.003618</td>\n",
       "      <td>-0.001778</td>\n",
       "    </tr>\n",
       "    <tr>\n",
       "      <th>2013-12-30</th>\n",
       "      <td>0.025286</td>\n",
       "      <td>0.004786</td>\n",
       "    </tr>\n",
       "    <tr>\n",
       "      <th>2013-12-31</th>\n",
       "      <td>0.002230</td>\n",
       "      <td>0.002880</td>\n",
       "    </tr>\n",
       "  </tbody>\n",
       "</table>\n",
       "<p>2012 rows × 2 columns</p>\n",
       "</div>"
      ],
      "text/plain": [
       "                 DIS       TRV\n",
       "Date                          \n",
       "2006-01-04 -0.016803  0.011089\n",
       "2006-01-05  0.017507  0.009677\n",
       "2006-01-06  0.013519  0.005538\n",
       "2006-01-09  0.010509  0.000424\n",
       "2006-01-10  0.012800 -0.007199\n",
       "...              ...       ...\n",
       "2013-12-24  0.007778  0.003701\n",
       "2013-12-26  0.010427  0.005811\n",
       "2013-12-27 -0.003618 -0.001778\n",
       "2013-12-30  0.025286  0.004786\n",
       "2013-12-31  0.002230  0.002880\n",
       "\n",
       "[2012 rows x 2 columns]"
      ]
     },
     "execution_count": 6,
     "metadata": {},
     "output_type": "execute_result"
    }
   ],
   "source": [
    "pair1_df_train = db.loc[\"2006\":\"2013\",target_df.index[0].split(\",\")].pct_change(1).dropna()\n",
    "pair1_df_test = db.loc[\"2014\":\"2014\",target_df.index[0].split(\",\")].pct_change(1).dropna()\n",
    "pair1_df_train"
   ]
  },
  {
   "cell_type": "code",
   "execution_count": 7,
   "metadata": {},
   "outputs": [],
   "source": [
    "# ytlist = pair1_df_train.iloc[:,0] - pair1_df_train.iloc[:,1]"
   ]
  },
  {
   "cell_type": "code",
   "execution_count": 8,
   "metadata": {
    "ExecuteTime": {
     "end_time": "2023-01-05T15:44:44.714940Z",
     "start_time": "2023-01-05T15:44:44.709144Z"
    }
   },
   "outputs": [],
   "source": [
    "from scipy.stats import t\n",
    "\n",
    "# ytlist = [] #用來收集過去的yt們，算z_td、s_z時會用到\n",
    "\n",
    "# #Table1 參數\n",
    "# fi_1_0 = 0.1046\n",
    "# fi_1_1 = 0.3886\n",
    "# fi_2_0 = 0.0961\n",
    "# fi_2_1 = -0.2403\n",
    "# alpha_1_0 = 0.1639\n",
    "# alpha_1_1 = 0.2132\n",
    "# beta_1_1 = 0.6631\n",
    "# alpha_2_0 = -0.1035\n",
    "# alpha_2_1 = -0.1063\n",
    "# beta_2_1 = -0.1751\n",
    "# v = 7\n",
    "# gamma = 5.5563\n",
    "# c_1 = -0.3569\n",
    "# c_2 = 0.3136\n",
    "# d = 1\n",
    "# z_td = yt[len(yt)-d:-1] #t-d\n",
    "# s_z = std(z_td)\n",
    "\n",
    "# Fdis = (1+np.exp(-gamma*(z_td - c_1)(z_td - c_2))/s_z)**(-1)\n",
    "# h_1_t = alpha_1_0 + alpha_1_1*a_t1**2 + beta_1_1*h_t1\n",
    "# h_2_t = alpha_2_0 + alpha_2_1*a_t1**2 + beta_2_1*h_t1\n",
    "# miu_1 = fi_1_0 + fi_1_1*y_t1\n",
    "# miu_2 = fi_2_0 + fi_2_1*y_t1\n",
    "# h_t = h_1_t + Fdis*h_2_t\n",
    "# epsilon = t.rvs(v, size=1) #t-distribution\n",
    "# a_t = h_t**0.5*epsilon #error term\n",
    "# y_t = miu_1 + Fdis*miu_2 + a_t #ST-GARCH\n"
   ]
  },
  {
   "cell_type": "code",
   "execution_count": 9,
   "metadata": {
    "ExecuteTime": {
     "end_time": "2023-01-05T15:45:14.493311Z",
     "start_time": "2023-01-05T15:45:14.481112Z"
    }
   },
   "outputs": [
    {
     "data": {
      "text/plain": [
       "Date\n",
       "2006-01-04   -0.027893\n",
       "2006-01-05    0.007830\n",
       "2006-01-06    0.007981\n",
       "2006-01-09    0.010086\n",
       "2006-01-10    0.019999\n",
       "2006-01-11   -0.006730\n",
       "2006-01-12    0.009006\n",
       "2006-01-13    0.004873\n",
       "2006-01-17    0.004903\n",
       "2006-01-18   -0.002139\n",
       "2006-01-19    0.046898\n",
       "2006-01-20    0.000427\n",
       "2006-01-23   -0.019551\n",
       "2006-01-24    0.023248\n",
       "2006-01-25   -0.007702\n",
       "2006-01-26   -0.047477\n",
       "2006-01-27   -0.007359\n",
       "2006-01-30    0.021383\n",
       "2006-01-31    0.012919\n",
       "2006-02-01   -0.006649\n",
       "2006-02-02    0.000069\n",
       "2006-02-03    0.007673\n",
       "2006-02-06    0.012736\n",
       "2006-02-07    0.077869\n",
       "2006-02-08    0.009547\n",
       "2006-02-09   -0.001655\n",
       "2006-02-10   -0.005409\n",
       "2006-02-13   -0.002098\n",
       "2006-02-14   -0.011618\n",
       "2006-02-15    0.014558\n",
       "dtype: float64"
      ]
     },
     "execution_count": 9,
     "metadata": {},
     "output_type": "execute_result"
    }
   ],
   "source": [
    "z_td = pair1_df_train.iloc[0:30,0]-pair1_df_train.iloc[0:30,1]\n",
    "z_td"
   ]
  },
  {
   "cell_type": "code",
   "execution_count": 10,
   "metadata": {
    "ExecuteTime": {
     "end_time": "2023-01-05T15:46:23.302244Z",
     "start_time": "2023-01-05T15:46:23.283742Z"
    }
   },
   "outputs": [
    {
     "data": {
      "text/plain": [
       "Date\n",
       "2006-01-04    3.701233e-13\n",
       "2006-01-05    4.572923e-13\n",
       "2006-01-06    4.583363e-13\n",
       "2006-01-09    4.736674e-13\n",
       "2006-01-10    5.701199e-13\n",
       "2006-01-11    3.878527e-13\n",
       "2006-01-12    4.656085e-13\n",
       "2006-01-13    4.384032e-13\n",
       "2006-01-17    4.385799e-13\n",
       "2006-01-18    4.037920e-13\n",
       "2006-01-19    1.213226e-12\n",
       "2006-01-20    4.149179e-13\n",
       "2006-01-23    3.668781e-13\n",
       "2006-01-24    6.124634e-13\n",
       "2006-01-25    3.850881e-13\n",
       "2006-01-26    4.343492e-13\n",
       "2006-01-27    3.860391e-13\n",
       "2006-01-30    5.873985e-13\n",
       "2006-01-31    4.968918e-13\n",
       "2006-02-01    3.880919e-13\n",
       "2006-02-02    4.132669e-13\n",
       "2006-02-03    4.562162e-13\n",
       "2006-02-06    4.952965e-13\n",
       "2006-02-07    4.569811e-12\n",
       "2006-02-08    4.695928e-13\n",
       "2006-02-09    4.057628e-13\n",
       "2006-02-10    3.919414e-13\n",
       "2006-02-13    4.039553e-13\n",
       "2006-02-14    3.759850e-13\n",
       "2006-02-15    5.117912e-13\n",
       "dtype: float64"
      ]
     },
     "execution_count": 10,
     "metadata": {},
     "output_type": "execute_result"
    }
   ],
   "source": [
    "fi_1_0, fi_1_1, fi_2_0, fi_2_1, alpha_1_0, alpha_1_1, beta_1_1, alpha_2_0, alpha_2_1, beta_2_1, v, gamma, c_1, c_2 = np.array([0.1046, 0.3886, 0.0961, -0.2403, 0.1639, 0.2132, 0.6631, -0.1035, -0.1063, -0.1751, 7.1122, 5.5563, -0.3569, 0.3136])\n",
    "tmp = 30\n",
    "gamma = 5.5563\n",
    "c_1 = -0.3569\n",
    "c_2 = 0.3136\n",
    "z_td = pair1_df_train.iloc[0:tmp,0] - pair1_df_train.iloc[0:tmp,1]\n",
    "s_z = z_td.std()   \n",
    "Fdis = (1+np.exp(-gamma*(z_td - c_1)*(z_td - c_2)/s_z))**(-1)\n",
    "Fdis"
   ]
  },
  {
   "cell_type": "code",
   "execution_count": 11,
   "metadata": {
    "ExecuteTime": {
     "end_time": "2023-01-05T15:47:13.919155Z",
     "start_time": "2023-01-05T15:47:13.905375Z"
    }
   },
   "outputs": [],
   "source": [
    "def fun_MLE(p):\n",
    "    fi_1_0, fi_1_1, fi_2_0, fi_2_1, alpha_1_0, alpha_1_1, beta_1_1, alpha_2_0, alpha_2_1, beta_2_1, v, gamma, c_1, c_2= p\n",
    "    # Define h_t1\n",
    "    tmp = 30\n",
    "    target = 1\n",
    "    z_td = pair1_df_train.iloc[0:tmp,0]-pair1_df_train.iloc[0:tmp,1]\n",
    "    z_td = z_td.to_numpy()\n",
    "    s_z = z_td.std()\n",
    "    Fdis = (1+np.exp(-gamma*(z_td - c_1)*(z_td - c_2))/s_z)**(-1)\n",
    "    h_1_t = pair1_df_train.iloc[0:tmp,0].std()\n",
    "    h_2_t = pair1_df_train.iloc[0:tmp,1].std()\n",
    "    h_t1 = h_1_t + Fdis*h_2_t\n",
    "    epsilon = t.rvs(v, size=1) #t-distribution\n",
    "    a_t1 = h_t1**0.5*epsilon #error term\n",
    "\n",
    "\n",
    "    y_t1 = pair1_df_train.iloc[tmp-1,0] - pair1_df_train.iloc[tmp-1,1]\n",
    "    # Define sigma, real_y_t, y_t\n",
    "    for i in range(tmp,len(pair1_df_train)):\n",
    "        z_td = pair1_df_train.iloc[0:i,0]-pair1_df_train.iloc[0:i,1]\n",
    "        z_td = z_td.to_numpy()\n",
    "        s_z = z_td.std()\n",
    "        real_y_t = pair1_df_train.iloc[i,0] - pair1_df_train.iloc[i,1]\n",
    "        # real_y_t = real_y_t.to_numpy()\n",
    "        h_1_t = alpha_1_0 + alpha_1_1*a_t1**2 + beta_1_1*h_t1\n",
    "        h_2_t = alpha_2_0 + alpha_2_1*a_t1**2 + beta_2_1*h_t1\n",
    "        miu_1 = fi_1_0 + fi_1_1*y_t1\n",
    "        miu_2 = fi_2_0 + fi_2_1*y_t1\n",
    "        h_t = h_1_t + Fdis*h_2_t\n",
    "        epsilon = t.rvs(v, size=1) #t-distribution\n",
    "        a_t = h_t**0.5*epsilon #error term\n",
    "        y_t = miu_1 + Fdis*miu_2 + a_t #ST-GARCH\n",
    "\n",
    "        h_t1 = h_t\n",
    "        a_t1 = a_t\n",
    "        y_t1 = real_y_t\n",
    "\n",
    "        sigma = h_t\n",
    "        target *= (2*np.pi*sigma**2)**(-0.5)*np.exp(-(real_y_t-y_t)**2/2*sigma**2) #MLE\n",
    "    target = -target\n",
    "    return target"
   ]
  },
  {
   "cell_type": "code",
   "execution_count": 13,
   "metadata": {
    "ExecuteTime": {
     "end_time": "2023-01-05T15:47:16.082772Z",
     "start_time": "2023-01-05T15:47:14.612553Z"
    }
   },
   "outputs": [
    {
     "ename": "ValueError",
     "evalue": "setting an array element with a sequence.",
     "output_type": "error",
     "traceback": [
      "\u001b[0;31m---------------------------------------------------------------------------\u001b[0m",
      "\u001b[0;31mTypeError\u001b[0m                                 Traceback (most recent call last)",
      "\u001b[0;31mTypeError\u001b[0m: only size-1 arrays can be converted to Python scalars",
      "\nThe above exception was the direct cause of the following exception:\n",
      "\u001b[0;31mValueError\u001b[0m                                Traceback (most recent call last)",
      "\u001b[0;32m/tmp/ipykernel_49202/2894144195.py\u001b[0m in \u001b[0;36m<module>\u001b[0;34m\u001b[0m\n\u001b[1;32m      2\u001b[0m \u001b[0;34m\u001b[0m\u001b[0m\n\u001b[1;32m      3\u001b[0m \u001b[0minitial\u001b[0m \u001b[0;34m=\u001b[0m \u001b[0mnp\u001b[0m\u001b[0;34m.\u001b[0m\u001b[0marray\u001b[0m\u001b[0;34m(\u001b[0m\u001b[0;34m[\u001b[0m\u001b[0;36m0.10\u001b[0m\u001b[0;34m,\u001b[0m \u001b[0;36m0.4\u001b[0m\u001b[0;34m,\u001b[0m \u001b[0;36m0.10\u001b[0m\u001b[0;34m,\u001b[0m \u001b[0;34m-\u001b[0m\u001b[0;36m0.25\u001b[0m\u001b[0;34m,\u001b[0m \u001b[0;36m0.15\u001b[0m\u001b[0;34m,\u001b[0m \u001b[0;36m0.2\u001b[0m\u001b[0;34m,\u001b[0m \u001b[0;36m0.7\u001b[0m\u001b[0;34m,\u001b[0m \u001b[0;34m-\u001b[0m\u001b[0;36m0.1\u001b[0m\u001b[0;34m,\u001b[0m \u001b[0;34m-\u001b[0m\u001b[0;36m0.1\u001b[0m\u001b[0;34m,\u001b[0m \u001b[0;34m-\u001b[0m\u001b[0;36m0.2\u001b[0m\u001b[0;34m,\u001b[0m \u001b[0;36m7\u001b[0m\u001b[0;34m,\u001b[0m \u001b[0;36m5\u001b[0m\u001b[0;34m,\u001b[0m \u001b[0;34m-\u001b[0m\u001b[0;36m0.35\u001b[0m\u001b[0;34m,\u001b[0m \u001b[0;36m0.3\u001b[0m\u001b[0;34m]\u001b[0m\u001b[0;34m)\u001b[0m  \u001b[0;31m# 後面兩項問號\u001b[0m\u001b[0;34m\u001b[0m\u001b[0;34m\u001b[0m\u001b[0m\n\u001b[0;32m----> 4\u001b[0;31m \u001b[0mminimum\u001b[0m \u001b[0;34m=\u001b[0m \u001b[0mopt\u001b[0m\u001b[0;34m.\u001b[0m\u001b[0mfmin\u001b[0m\u001b[0;34m(\u001b[0m\u001b[0mfunc\u001b[0m \u001b[0;34m=\u001b[0m \u001b[0mfun_MLE\u001b[0m\u001b[0;34m,\u001b[0m \u001b[0mx0\u001b[0m \u001b[0;34m=\u001b[0m \u001b[0minitial\u001b[0m\u001b[0;34m)\u001b[0m\u001b[0;34m\u001b[0m\u001b[0;34m\u001b[0m\u001b[0m\n\u001b[0m\u001b[1;32m      5\u001b[0m \u001b[0mminimum\u001b[0m\u001b[0;34m\u001b[0m\u001b[0;34m\u001b[0m\u001b[0m\n",
      "\u001b[0;32m~/anaconda3/envs/gamma/lib/python3.7/site-packages/scipy/optimize/optimize.py\u001b[0m in \u001b[0;36mfmin\u001b[0;34m(func, x0, args, xtol, ftol, maxiter, maxfun, full_output, disp, retall, callback, initial_simplex)\u001b[0m\n\u001b[1;32m    578\u001b[0m             'initial_simplex': initial_simplex}\n\u001b[1;32m    579\u001b[0m \u001b[0;34m\u001b[0m\u001b[0m\n\u001b[0;32m--> 580\u001b[0;31m     \u001b[0mres\u001b[0m \u001b[0;34m=\u001b[0m \u001b[0m_minimize_neldermead\u001b[0m\u001b[0;34m(\u001b[0m\u001b[0mfunc\u001b[0m\u001b[0;34m,\u001b[0m \u001b[0mx0\u001b[0m\u001b[0;34m,\u001b[0m \u001b[0margs\u001b[0m\u001b[0;34m,\u001b[0m \u001b[0mcallback\u001b[0m\u001b[0;34m=\u001b[0m\u001b[0mcallback\u001b[0m\u001b[0;34m,\u001b[0m \u001b[0;34m**\u001b[0m\u001b[0mopts\u001b[0m\u001b[0;34m)\u001b[0m\u001b[0;34m\u001b[0m\u001b[0;34m\u001b[0m\u001b[0m\n\u001b[0m\u001b[1;32m    581\u001b[0m     \u001b[0;32mif\u001b[0m \u001b[0mfull_output\u001b[0m\u001b[0;34m:\u001b[0m\u001b[0;34m\u001b[0m\u001b[0;34m\u001b[0m\u001b[0m\n\u001b[1;32m    582\u001b[0m         \u001b[0mretlist\u001b[0m \u001b[0;34m=\u001b[0m \u001b[0mres\u001b[0m\u001b[0;34m[\u001b[0m\u001b[0;34m'x'\u001b[0m\u001b[0;34m]\u001b[0m\u001b[0;34m,\u001b[0m \u001b[0mres\u001b[0m\u001b[0;34m[\u001b[0m\u001b[0;34m'fun'\u001b[0m\u001b[0;34m]\u001b[0m\u001b[0;34m,\u001b[0m \u001b[0mres\u001b[0m\u001b[0;34m[\u001b[0m\u001b[0;34m'nit'\u001b[0m\u001b[0;34m]\u001b[0m\u001b[0;34m,\u001b[0m \u001b[0mres\u001b[0m\u001b[0;34m[\u001b[0m\u001b[0;34m'nfev'\u001b[0m\u001b[0;34m]\u001b[0m\u001b[0;34m,\u001b[0m \u001b[0mres\u001b[0m\u001b[0;34m[\u001b[0m\u001b[0;34m'status'\u001b[0m\u001b[0;34m]\u001b[0m\u001b[0;34m\u001b[0m\u001b[0;34m\u001b[0m\u001b[0m\n",
      "\u001b[0;32m~/anaconda3/envs/gamma/lib/python3.7/site-packages/scipy/optimize/optimize.py\u001b[0m in \u001b[0;36m_minimize_neldermead\u001b[0;34m(func, x0, args, callback, maxiter, maxfev, disp, return_all, initial_simplex, xatol, fatol, adaptive, bounds, **unknown_options)\u001b[0m\n\u001b[1;32m    748\u001b[0m \u001b[0;34m\u001b[0m\u001b[0m\n\u001b[1;32m    749\u001b[0m     \u001b[0;32mfor\u001b[0m \u001b[0mk\u001b[0m \u001b[0;32min\u001b[0m \u001b[0mrange\u001b[0m\u001b[0;34m(\u001b[0m\u001b[0mN\u001b[0m \u001b[0;34m+\u001b[0m \u001b[0;36m1\u001b[0m\u001b[0;34m)\u001b[0m\u001b[0;34m:\u001b[0m\u001b[0;34m\u001b[0m\u001b[0;34m\u001b[0m\u001b[0m\n\u001b[0;32m--> 750\u001b[0;31m         \u001b[0mfsim\u001b[0m\u001b[0;34m[\u001b[0m\u001b[0mk\u001b[0m\u001b[0;34m]\u001b[0m \u001b[0;34m=\u001b[0m \u001b[0mfunc\u001b[0m\u001b[0;34m(\u001b[0m\u001b[0msim\u001b[0m\u001b[0;34m[\u001b[0m\u001b[0mk\u001b[0m\u001b[0;34m]\u001b[0m\u001b[0;34m)\u001b[0m\u001b[0;34m\u001b[0m\u001b[0;34m\u001b[0m\u001b[0m\n\u001b[0m\u001b[1;32m    751\u001b[0m \u001b[0;34m\u001b[0m\u001b[0m\n\u001b[1;32m    752\u001b[0m     \u001b[0mind\u001b[0m \u001b[0;34m=\u001b[0m \u001b[0mnp\u001b[0m\u001b[0;34m.\u001b[0m\u001b[0margsort\u001b[0m\u001b[0;34m(\u001b[0m\u001b[0mfsim\u001b[0m\u001b[0;34m)\u001b[0m\u001b[0;34m\u001b[0m\u001b[0;34m\u001b[0m\u001b[0m\n",
      "\u001b[0;31mValueError\u001b[0m: setting an array element with a sequence."
     ]
    }
   ],
   "source": [
    "#MLE\n",
    "\n",
    "initial = np.array([0.10, 0.4, 0.10, -0.25, 0.15, 0.2, 0.7, -0.1, -0.1, -0.2, 7, 5, -0.35, 0.3])  # 後面兩項問號\n",
    "minimum = opt.fmin(func = fun_MLE, x0 = initial)\n",
    "minimum"
   ]
  },
  {
   "cell_type": "markdown",
   "metadata": {},
   "source": [
    "# Trade"
   ]
  },
  {
   "cell_type": "code",
   "execution_count": null,
   "metadata": {},
   "outputs": [],
   "source": [
    "df_return = db.pct_change()"
   ]
  },
  {
   "cell_type": "code",
   "execution_count": null,
   "metadata": {},
   "outputs": [],
   "source": [
    "global results"
   ]
  },
  {
   "cell_type": "code",
   "execution_count": null,
   "metadata": {},
   "outputs": [],
   "source": [
    "results = {'signals':[],\n",
    "           'returns':[],\n",
    "           'A_SoldPrices':[],\n",
    "           'A_BoughtPrices':[],\n",
    "           'B_SoldPrices':[],\n",
    "           'B_BoughtPrices':[]\n",
    "           }"
   ]
  },
  {
   "cell_type": "code",
   "execution_count": null,
   "metadata": {},
   "outputs": [],
   "source": [
    "# Input1 : Real return spread\n",
    "# Input2 : Estimated return spread\n",
    "# Output : Gain, Trading Signal\n",
    "\n",
    "y1 = df_return.iloc[-1,0] \n",
    "y2 = df_return.iloc[-1,1]\n",
    "p1 = db.iloc[-1:,0] #A Price\n",
    "p2 = db.iloc[-1,1] #B Price\n",
    "\n",
    "#First trade\n",
    "i = 0\n",
    "\n",
    "#signal\n",
    "tmp0 = 0\n",
    "tmp1 = 1\n",
    "tmp2 = -1\n",
    "\n",
    "#First trade\n",
    "if i == 0:\n",
    "    if (y1 > y2):\n",
    "        signal = tmp1\n",
    "        results['A_SoldPrices'].append(p1)\n",
    "        results['B_BoughtPrices'].append(p2)\n",
    "        i = 1\n",
    "        tmp = 0\n",
    "    \n",
    "    elif (y1 < y2):  \n",
    "        signal = tmp2\n",
    "        results['A_BoughtPrices'].append(p1)\n",
    "        results['B_SoldPrices'].append(p2) \n",
    "        i = 1\n",
    "        tmp = 0\n",
    "    else:\n",
    "        signal = tmp0\n",
    "        i = 0\n",
    "        tmp = 1\n",
    "\n",
    "elif i == 1:\n",
    "    # After first trade\n",
    "    if (y1 > y2) & (results['signals'][-1] == tmp1) :\n",
    "        signal = tmp1\n",
    "        results['A_SoldPrices'].append(y1)\n",
    "        results['B_BoughtPrices'].append(y2)\n",
    "        tmp = -np.log(results['A_SoldPrices'][-1]/results['A_BoughtPrices'][-1])+np.log(results['B_SoldPrices'][-1]/results['B_BoughtPrices'][-1])\n",
    "  \n",
    "    elif (y1 <y2) & (results['signals'][-1] == tmp2):  \n",
    "        signal = tmp2\n",
    "        results['A_BoughtPrices'].append(y1)\n",
    "        results['B_SoldPrices'].append(y2)\n",
    "        tmp = np.log(results['A_SoldPrices'][-1]/results['A_BoughtPrices'][-1])-np.log(results['B_SoldPrices'][-1]/results['B_BoughtPrices'][-1]) \n",
    "\n",
    "    else:\n",
    "        signal = tmp0\n",
    "        tmp = 0\n",
    "\n",
    "\n",
    "results['signals'].append(signal)\n",
    "results['returns'].append(tmp)"
   ]
  }
 ],
 "metadata": {
  "kernelspec": {
   "display_name": "Python 3 (ipykernel)",
   "language": "python",
   "name": "python3"
  },
  "language_info": {
   "codemirror_mode": {
    "name": "ipython",
    "version": 3
   },
   "file_extension": ".py",
   "mimetype": "text/x-python",
   "name": "python",
   "nbconvert_exporter": "python",
   "pygments_lexer": "ipython3",
   "version": "3.7.15"
  },
  "varInspector": {
   "cols": {
    "lenName": 16,
    "lenType": 16,
    "lenVar": "100"
   },
   "kernels_config": {
    "python": {
     "delete_cmd_postfix": "",
     "delete_cmd_prefix": "del ",
     "library": "var_list.py",
     "varRefreshCmd": "print(var_dic_list())"
    },
    "r": {
     "delete_cmd_postfix": ") ",
     "delete_cmd_prefix": "rm(",
     "library": "var_list.r",
     "varRefreshCmd": "cat(var_dic_list()) "
    }
   },
   "oldHeight": 122.852,
   "position": {
    "height": "40px",
    "left": "1170px",
    "right": "20px",
    "top": "120px",
    "width": "250px"
   },
   "types_to_exclude": [
    "module",
    "function",
    "builtin_function_or_method",
    "instance",
    "_Feature"
   ],
   "varInspector_section_display": "none",
   "window_display": true
  },
  "vscode": {
   "interpreter": {
    "hash": "d8341897ff419221d780f9a95c4fa7d04e3c455196529406791fce95faaad134"
   }
  }
 },
 "nbformat": 4,
 "nbformat_minor": 2
}
