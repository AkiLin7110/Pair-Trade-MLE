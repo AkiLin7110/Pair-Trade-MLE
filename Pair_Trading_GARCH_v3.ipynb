{
 "cells": [
  {
   "cell_type": "code",
   "execution_count": 16,
   "metadata": {},
   "outputs": [],
   "source": [
    "import pandas as pd\n",
    "import numpy as np\n",
    "\n",
    "import math\n",
    "import scipy.optimize as opt\n",
    "from scipy.stats import t\n"
   ]
  },
  {
   "cell_type": "code",
   "execution_count": 17,
   "metadata": {},
   "outputs": [],
   "source": [
    "# Data: Close\n",
    "db = pd.read_excel('Data.xlsx', index_col = \"Date\")"
   ]
  },
  {
   "cell_type": "markdown",
   "metadata": {},
   "source": [
    "# MSD"
   ]
  },
  {
   "cell_type": "code",
   "execution_count": 18,
   "metadata": {},
   "outputs": [],
   "source": [
    "db.index = pd.to_datetime(db.index)\n",
    "MSD_df = db['2006':'2013']\n",
    "MSD_df = (MSD_df-MSD_df.mean())/MSD_df.std() #change rolling\n",
    "MSD_df = MSD_df.dropna(axis = 1) #drop nan"
   ]
  },
  {
   "cell_type": "code",
   "execution_count": 19,
   "metadata": {},
   "outputs": [],
   "source": [
    "target = {}\n",
    "for i in range(0,len(MSD_df.columns)-1):\n",
    "    for j in range(i+1,len(MSD_df.columns)):\n",
    "        tmp = ((MSD_df.iloc[:,i] - MSD_df.iloc[:,j])**2).sum()\n",
    "        target[str(MSD_df.columns[i])+','+str(MSD_df.columns[j])] = tmp"
   ]
  },
  {
   "cell_type": "code",
   "execution_count": 20,
   "metadata": {},
   "outputs": [],
   "source": [
    "target_df = pd.DataFrame.from_dict(target, orient='index')\n",
    "target_df = target_df.sort_values(by = 0)[0:10]"
   ]
  },
  {
   "cell_type": "code",
   "execution_count": 84,
   "metadata": {},
   "outputs": [],
   "source": [
    "pair1_df_train = db.loc[\"2006\":\"2013\",target_df.index[0].split(\",\")].pct_change()\n",
    "pair1_df_test = db.loc[\"2014\":\"2014\",target_df.index[0].split(\",\")].pct_change()"
   ]
  },
  {
   "cell_type": "code",
   "execution_count": 23,
   "metadata": {},
   "outputs": [],
   "source": [
    "# from scipy.stats import t\n",
    "\n",
    "# ytlist = [] #用來收集過去的yt們，算z_td、s_z時會用到\n",
    "\n",
    "# #Table1 參數\n",
    "# fi_1_0 = 0.1046\n",
    "# fi_1_1 = 0.3886\n",
    "# fi_2_0 = 0.0961\n",
    "# fi_2_1 = -0.2403\n",
    "# alpha_1_0 = 0.1639\n",
    "# alpha_1_1 = 0.2132\n",
    "# beta_1_1 = 0.6631\n",
    "# alpha_2_0 = -0.1035\n",
    "# alpha_2_1 = -0.1063\n",
    "# beta_2_1 = -0.1751\n",
    "# v = 7.1122\n",
    "# gamma = 5.5563\n",
    "# c_1 = -0.3569\n",
    "# c_2 = 0.3136\n",
    "# d = 1\n",
    "# z_td = yt[len(yt)-d:-1] #t-d\n",
    "# s_z = std(z_td)\n",
    "\n",
    "# Fdis = (1+np.exp(-gamma*(z_td - c_1)(z_td - c_2))/s_z)**(-1)\n",
    "# h_1_t = alpha_1_0 + alpha_1_1*a_t1**2 + beta_1_1*h_t1\n",
    "# h_2_t = alpha_2_0 + alpha_2_1*a_t1**2 + beta_2_1*h_t1\n",
    "# miu_1 = fi_1_0 + fi_1_1*y_t1\n",
    "# miu_2 = fi_2_0 + fi_2_1*y_t1\n",
    "# h_t = h_1_t + Fdis*h_2_t\n",
    "# epsilon = t.rvs(v, size=1) #t-distribution\n",
    "# a_t = h_t**0.5*epsilon #error term\n",
    "# y_t = miu_1 + Fdis*miu_2 + a_t #ST-GARCH\n"
   ]
  },
  {
   "cell_type": "code",
   "execution_count": 85,
   "metadata": {},
   "outputs": [],
   "source": [
    "def fun_MLE(p):\n",
    "     fi_1_0, fi_1_1, fi_2_0, fi_2_1, alpha_1_0, alpha_1_1, beta_1_1, alpha_2_0, alpha_2_1, beta_2_1, v, gamma, c_1, c_2 = p\n",
    "\n",
    "     # Define h_t1\n",
    "     tmp = 30\n",
    "     target = 1\n",
    "     z_td = pair1_df_train.iloc[0:tmp,1] - pair1_df_train.iloc[0:tmp,1]\n",
    "     s_z = z_td.std()\n",
    "     Fdis = (1+np.exp(-gamma*(z_td - c_1)*(z_td - c_2))/s_z)**(-1)\n",
    "     h_1_t = pair1_df_train.iloc[0:tmp,0].std() #change return\n",
    "     h_2_t = pair1_df_train.iloc[0:tmp,1].std()\n",
    "     h_t1 = h_1_t + Fdis*h_2_t\n",
    "     epsilon = t.rvs(v, size=1) #t-distribution\n",
    "     a_t1 = h_t1**0.5*epsilon #error term\n",
    "\n",
    "     y_t1 = pair1_df_train.iloc[tmp-1,0] - pair1_df_train.iloc[tmp-1,1]\n",
    "     \n",
    "     #Define sigma, real_y_t, y_t\n",
    "     for i in range(tmp,len(pair1_df_train)):\n",
    "          z_td = pair1_df_train.iloc[i-tmp+1:i+1,0] - pair1_df_train.iloc[i-tmp+1:i+1,1]\n",
    "          z_td = z_td.to_numpy()\n",
    "          s_z = z_td.std()\n",
    "          real_y_t = pair1_df_train.iloc[i,0] - pair1_df_train.iloc[i,1]\n",
    "          # print(real_y_t)\n",
    "          h_1_t = alpha_1_0 + alpha_1_1*a_t1**2 + beta_1_1*h_t1\n",
    "          # print(h_1_t)\n",
    "          h_2_t = alpha_2_0 + alpha_2_1*a_t1**2 + beta_2_1*h_t1\n",
    "          # print(h_2_t)\n",
    "          miu_1 = fi_1_0 + fi_1_1*y_t1\n",
    "          # print(miu_1)\n",
    "          miu_2 = fi_2_0 + fi_2_1*y_t1\n",
    "          # print(miu_2)\n",
    "          h_t = h_1_t + Fdis*h_2_t\n",
    "          # print(h_t)\n",
    "          epsilon = t.rvs(v, size=1) #t-distribution\n",
    "          # print(epsilon)\n",
    "          a_t = h_t**0.5*epsilon #error term\n",
    "          # print(a_t)\n",
    "          y_t = miu_1 + Fdis*miu_2 + a_t #ST-GARCH\n",
    "          # print(y_t)\n",
    "\n",
    "          h_t1 = h_t\n",
    "          a_t1 = a_t\n",
    "          y_t1 = real_y_t\n",
    "\n",
    "          sigma = h_t\n",
    "          target *= (2*np.pi*sigma**2)**(-1/2)*np.exp(-(real_y_t-y_t)**2/2*sigma**2) #MLE\n",
    "          # print(np.sqrt(2*np.pi*sigma**2)*np.exp(-(real_y_t-y_t)**2/2*sigma**2))\n",
    "     # target = -target\n",
    "     # print(target)\n",
    "     return target"
   ]
  },
  {
   "cell_type": "code",
   "execution_count": 90,
   "metadata": {},
   "outputs": [
    {
     "data": {
      "text/plain": [
       "array([nan, nan, nan, nan, nan, nan, nan, nan, nan, nan, nan, nan, nan,\n",
       "       nan, nan, nan, nan, nan, nan, nan, nan, nan, nan, nan, nan, nan,\n",
       "       nan, nan, nan, nan])"
      ]
     },
     "execution_count": 90,
     "metadata": {},
     "output_type": "execute_result"
    }
   ],
   "source": [
    "fi_1_0, fi_1_1, fi_2_0, fi_2_1, alpha_1_0, alpha_1_1, beta_1_1, alpha_2_0, alpha_2_1, beta_2_1, v, gamma, c_1, c_2= np.array([0.1046, 0.3886, 0.0961, -0.2403, 0.1639, 0.2132, 0.6631, -0.1035, -0.1063, -0.1751, 7.1122, 5.5563, -0.3569, 0.3136])\n",
    "\n",
    "# Define h_t1\n",
    "tmp = 30\n",
    "target = 1\n",
    "\n",
    "z_td = pair1_df_train.iloc[0:tmp,0] - pair1_df_train.iloc[0:tmp,1]\n",
    "z_td = z_td.to_numpy()\n",
    "s_z = z_td.std()\n",
    "\n",
    "Fdis = (1+np.exp(-gamma*(z_td - c_1)*(z_td - c_2)/s_z))**(-1)\n",
    "Fdis"
   ]
  },
  {
   "cell_type": "code",
   "execution_count": 88,
   "metadata": {},
   "outputs": [
    {
     "ename": "ValueError",
     "evalue": "setting an array element with a sequence.",
     "output_type": "error",
     "traceback": [
      "\u001b[0;31m---------------------------------------------------------------------------\u001b[0m",
      "\u001b[0;31mTypeError\u001b[0m                                 Traceback (most recent call last)",
      "\u001b[0;32m~/anaconda3/envs/gamma/lib/python3.7/site-packages/pandas/core/series.py\u001b[0m in \u001b[0;36mwrapper\u001b[0;34m(self)\u001b[0m\n\u001b[1;32m    184\u001b[0m             \u001b[0;32mreturn\u001b[0m \u001b[0mconverter\u001b[0m\u001b[0;34m(\u001b[0m\u001b[0mself\u001b[0m\u001b[0;34m.\u001b[0m\u001b[0miloc\u001b[0m\u001b[0;34m[\u001b[0m\u001b[0;36m0\u001b[0m\u001b[0;34m]\u001b[0m\u001b[0;34m)\u001b[0m\u001b[0;34m\u001b[0m\u001b[0;34m\u001b[0m\u001b[0m\n\u001b[0;32m--> 185\u001b[0;31m         \u001b[0;32mraise\u001b[0m \u001b[0mTypeError\u001b[0m\u001b[0;34m(\u001b[0m\u001b[0;34mf\"cannot convert the series to {converter}\"\u001b[0m\u001b[0;34m)\u001b[0m\u001b[0;34m\u001b[0m\u001b[0;34m\u001b[0m\u001b[0m\n\u001b[0m\u001b[1;32m    186\u001b[0m \u001b[0;34m\u001b[0m\u001b[0m\n",
      "\u001b[0;31mTypeError\u001b[0m: cannot convert the series to <class 'float'>",
      "\nThe above exception was the direct cause of the following exception:\n",
      "\u001b[0;31mValueError\u001b[0m                                Traceback (most recent call last)",
      "\u001b[0;32m/tmp/ipykernel_41383/1594524771.py\u001b[0m in \u001b[0;36m<module>\u001b[0;34m\u001b[0m\n\u001b[1;32m      1\u001b[0m \u001b[0;31m#MLE\u001b[0m\u001b[0;34m\u001b[0m\u001b[0;34m\u001b[0m\u001b[0;34m\u001b[0m\u001b[0m\n\u001b[1;32m      2\u001b[0m \u001b[0minitial\u001b[0m \u001b[0;34m=\u001b[0m \u001b[0mnp\u001b[0m\u001b[0;34m.\u001b[0m\u001b[0marray\u001b[0m\u001b[0;34m(\u001b[0m\u001b[0;34m[\u001b[0m\u001b[0;36m0.1046\u001b[0m\u001b[0;34m,\u001b[0m \u001b[0;36m0.3886\u001b[0m\u001b[0;34m,\u001b[0m \u001b[0;36m0.0961\u001b[0m\u001b[0;34m,\u001b[0m \u001b[0;34m-\u001b[0m\u001b[0;36m0.2403\u001b[0m\u001b[0;34m,\u001b[0m \u001b[0;36m0.1639\u001b[0m\u001b[0;34m,\u001b[0m \u001b[0;36m0.2132\u001b[0m\u001b[0;34m,\u001b[0m \u001b[0;36m0.6631\u001b[0m\u001b[0;34m,\u001b[0m \u001b[0;34m-\u001b[0m\u001b[0;36m0.1035\u001b[0m\u001b[0;34m,\u001b[0m \u001b[0;34m-\u001b[0m\u001b[0;36m0.1063\u001b[0m\u001b[0;34m,\u001b[0m \u001b[0;34m-\u001b[0m\u001b[0;36m0.1751\u001b[0m\u001b[0;34m,\u001b[0m \u001b[0;36m7.1122\u001b[0m\u001b[0;34m,\u001b[0m \u001b[0;36m5.5563\u001b[0m\u001b[0;34m,\u001b[0m \u001b[0;34m-\u001b[0m\u001b[0;36m0.3569\u001b[0m\u001b[0;34m,\u001b[0m \u001b[0;36m0.3136\u001b[0m\u001b[0;34m]\u001b[0m\u001b[0;34m)\u001b[0m  \u001b[0;31m# 後面兩項問號\u001b[0m\u001b[0;34m\u001b[0m\u001b[0;34m\u001b[0m\u001b[0m\n\u001b[0;32m----> 3\u001b[0;31m \u001b[0mminimum\u001b[0m \u001b[0;34m=\u001b[0m \u001b[0mopt\u001b[0m\u001b[0;34m.\u001b[0m\u001b[0mfmin\u001b[0m\u001b[0;34m(\u001b[0m\u001b[0mfunc\u001b[0m \u001b[0;34m=\u001b[0m \u001b[0mfun_MLE\u001b[0m\u001b[0;34m,\u001b[0m \u001b[0mx0\u001b[0m \u001b[0;34m=\u001b[0m \u001b[0minitial\u001b[0m\u001b[0;34m)\u001b[0m\u001b[0;34m\u001b[0m\u001b[0;34m\u001b[0m\u001b[0m\n\u001b[0m\u001b[1;32m      4\u001b[0m \u001b[0mminimum\u001b[0m\u001b[0;34m\u001b[0m\u001b[0;34m\u001b[0m\u001b[0m\n",
      "\u001b[0;32m~/anaconda3/envs/gamma/lib/python3.7/site-packages/scipy/optimize/optimize.py\u001b[0m in \u001b[0;36mfmin\u001b[0;34m(func, x0, args, xtol, ftol, maxiter, maxfun, full_output, disp, retall, callback, initial_simplex)\u001b[0m\n\u001b[1;32m    578\u001b[0m             'initial_simplex': initial_simplex}\n\u001b[1;32m    579\u001b[0m \u001b[0;34m\u001b[0m\u001b[0m\n\u001b[0;32m--> 580\u001b[0;31m     \u001b[0mres\u001b[0m \u001b[0;34m=\u001b[0m \u001b[0m_minimize_neldermead\u001b[0m\u001b[0;34m(\u001b[0m\u001b[0mfunc\u001b[0m\u001b[0;34m,\u001b[0m \u001b[0mx0\u001b[0m\u001b[0;34m,\u001b[0m \u001b[0margs\u001b[0m\u001b[0;34m,\u001b[0m \u001b[0mcallback\u001b[0m\u001b[0;34m=\u001b[0m\u001b[0mcallback\u001b[0m\u001b[0;34m,\u001b[0m \u001b[0;34m**\u001b[0m\u001b[0mopts\u001b[0m\u001b[0;34m)\u001b[0m\u001b[0;34m\u001b[0m\u001b[0;34m\u001b[0m\u001b[0m\n\u001b[0m\u001b[1;32m    581\u001b[0m     \u001b[0;32mif\u001b[0m \u001b[0mfull_output\u001b[0m\u001b[0;34m:\u001b[0m\u001b[0;34m\u001b[0m\u001b[0;34m\u001b[0m\u001b[0m\n\u001b[1;32m    582\u001b[0m         \u001b[0mretlist\u001b[0m \u001b[0;34m=\u001b[0m \u001b[0mres\u001b[0m\u001b[0;34m[\u001b[0m\u001b[0;34m'x'\u001b[0m\u001b[0;34m]\u001b[0m\u001b[0;34m,\u001b[0m \u001b[0mres\u001b[0m\u001b[0;34m[\u001b[0m\u001b[0;34m'fun'\u001b[0m\u001b[0;34m]\u001b[0m\u001b[0;34m,\u001b[0m \u001b[0mres\u001b[0m\u001b[0;34m[\u001b[0m\u001b[0;34m'nit'\u001b[0m\u001b[0;34m]\u001b[0m\u001b[0;34m,\u001b[0m \u001b[0mres\u001b[0m\u001b[0;34m[\u001b[0m\u001b[0;34m'nfev'\u001b[0m\u001b[0;34m]\u001b[0m\u001b[0;34m,\u001b[0m \u001b[0mres\u001b[0m\u001b[0;34m[\u001b[0m\u001b[0;34m'status'\u001b[0m\u001b[0;34m]\u001b[0m\u001b[0;34m\u001b[0m\u001b[0;34m\u001b[0m\u001b[0m\n",
      "\u001b[0;32m~/anaconda3/envs/gamma/lib/python3.7/site-packages/scipy/optimize/optimize.py\u001b[0m in \u001b[0;36m_minimize_neldermead\u001b[0;34m(func, x0, args, callback, maxiter, maxfev, disp, return_all, initial_simplex, xatol, fatol, adaptive, bounds, **unknown_options)\u001b[0m\n\u001b[1;32m    748\u001b[0m \u001b[0;34m\u001b[0m\u001b[0m\n\u001b[1;32m    749\u001b[0m     \u001b[0;32mfor\u001b[0m \u001b[0mk\u001b[0m \u001b[0;32min\u001b[0m \u001b[0mrange\u001b[0m\u001b[0;34m(\u001b[0m\u001b[0mN\u001b[0m \u001b[0;34m+\u001b[0m \u001b[0;36m1\u001b[0m\u001b[0;34m)\u001b[0m\u001b[0;34m:\u001b[0m\u001b[0;34m\u001b[0m\u001b[0;34m\u001b[0m\u001b[0m\n\u001b[0;32m--> 750\u001b[0;31m         \u001b[0mfsim\u001b[0m\u001b[0;34m[\u001b[0m\u001b[0mk\u001b[0m\u001b[0;34m]\u001b[0m \u001b[0;34m=\u001b[0m \u001b[0mfunc\u001b[0m\u001b[0;34m(\u001b[0m\u001b[0msim\u001b[0m\u001b[0;34m[\u001b[0m\u001b[0mk\u001b[0m\u001b[0;34m]\u001b[0m\u001b[0;34m)\u001b[0m\u001b[0;34m\u001b[0m\u001b[0;34m\u001b[0m\u001b[0m\n\u001b[0m\u001b[1;32m    751\u001b[0m \u001b[0;34m\u001b[0m\u001b[0m\n\u001b[1;32m    752\u001b[0m     \u001b[0mind\u001b[0m \u001b[0;34m=\u001b[0m \u001b[0mnp\u001b[0m\u001b[0;34m.\u001b[0m\u001b[0margsort\u001b[0m\u001b[0;34m(\u001b[0m\u001b[0mfsim\u001b[0m\u001b[0;34m)\u001b[0m\u001b[0;34m\u001b[0m\u001b[0;34m\u001b[0m\u001b[0m\n",
      "\u001b[0;31mValueError\u001b[0m: setting an array element with a sequence."
     ]
    }
   ],
   "source": [
    "#MLE\n",
    "initial = np.array([0.1046, 0.3886, 0.0961, -0.2403, 0.1639, 0.2132, 0.6631, -0.1035, -0.1063, -0.1751, 7.1122, 5.5563, -0.3569, 0.3136])  # 後面兩項問號\n",
    "minimum = opt.fmin(func = fun_MLE, x0 = initial)\n",
    "minimum"
   ]
  },
  {
   "cell_type": "code",
   "execution_count": null,
   "metadata": {},
   "outputs": [
    {
     "data": {
      "text/plain": [
       "array([ 0.1046,  0.3886,  0.0961, -0.2403,  0.1639,  0.2132,  0.6631,\n",
       "       -0.1035, -0.1063, -0.1751,  7.1122,  5.5563, -0.3569,  0.3136,\n",
       "        1.    ,  1.    ,  1.    ])"
      ]
     },
     "execution_count": 11,
     "metadata": {},
     "output_type": "execute_result"
    }
   ],
   "source": [
    "minimum"
   ]
  },
  {
   "cell_type": "markdown",
   "metadata": {},
   "source": [
    "# Trade"
   ]
  },
  {
   "cell_type": "code",
   "execution_count": null,
   "metadata": {},
   "outputs": [],
   "source": [
    "df_return = db.pct_change()"
   ]
  },
  {
   "cell_type": "code",
   "execution_count": null,
   "metadata": {},
   "outputs": [],
   "source": [
    "global results"
   ]
  },
  {
   "cell_type": "code",
   "execution_count": null,
   "metadata": {},
   "outputs": [],
   "source": [
    "results = {'signals':[],\n",
    "           'returns':[],\n",
    "           'A_SoldPrices':[],\n",
    "           'A_BoughtPrices':[],\n",
    "           'B_SoldPrices':[],\n",
    "           'B_BoughtPrices':[]\n",
    "           }"
   ]
  },
  {
   "cell_type": "code",
   "execution_count": null,
   "metadata": {},
   "outputs": [],
   "source": [
    "# Input1 : Real return spread\n",
    "# Input2 : Estimated return spread\n",
    "# Output : Gain, Trading Signal\n",
    "\n",
    "y1 = df_return.iloc[-1,0] \n",
    "y2 = df_return.iloc[-1,1]\n",
    "p1 = db.iloc[-1:,0] #A Price\n",
    "p2 = db.iloc[-1,1] #B Price\n",
    "\n",
    "#First trade\n",
    "i = 0\n",
    "\n",
    "#signal\n",
    "tmp0 = 0\n",
    "tmp1 = 1\n",
    "tmp2 = -1\n",
    "\n",
    "#First trade\n",
    "if i == 0:\n",
    "    if (y1 > y2):\n",
    "        signal = tmp1\n",
    "        results['A_SoldPrices'].append(p1)\n",
    "        results['B_BoughtPrices'].append(p2)\n",
    "        i = 1\n",
    "        tmp = 0\n",
    "    \n",
    "    elif (y1 < y2):  \n",
    "        signal = tmp2\n",
    "        results['A_BoughtPrices'].append(p1)\n",
    "        results['B_SoldPrices'].append(p2) \n",
    "        i = 1\n",
    "        tmp = 0\n",
    "    else:\n",
    "        signal = tmp0\n",
    "        i = 0\n",
    "        tmp = 1\n",
    "\n",
    "elif i == 1:\n",
    "    # After first trade\n",
    "    if (y1 > y2) & (results['signals'][-1] == tmp1) :\n",
    "        signal = tmp1\n",
    "        results['A_SoldPrices'].append(y1)\n",
    "        results['B_BoughtPrices'].append(y2)\n",
    "        tmp = -np.log(results['A_SoldPrices'][-1]/results['A_BoughtPrices'][-1])+np.log(results['B_SoldPrices'][-1]/results['B_BoughtPrices'][-1])\n",
    "  \n",
    "    elif (y1 <y2) & (results['signals'][-1] == tmp2):  \n",
    "        signal = tmp2\n",
    "        results['A_BoughtPrices'].append(y1)\n",
    "        results['B_SoldPrices'].append(y2)\n",
    "        tmp = np.log(results['A_SoldPrices'][-1]/results['A_BoughtPrices'][-1])-np.log(results['B_SoldPrices'][-1]/results['B_BoughtPrices'][-1]) \n",
    "\n",
    "    else:\n",
    "        signal = tmp0\n",
    "        tmp = 0\n",
    "\n",
    "\n",
    "results['signals'].append(signal)\n",
    "results['returns'].append(tmp)"
   ]
  }
 ],
 "metadata": {
  "kernelspec": {
   "display_name": "Python 3",
   "language": "python",
   "name": "python3"
  },
  "language_info": {
   "codemirror_mode": {
    "name": "ipython",
    "version": 3
   },
   "file_extension": ".py",
   "mimetype": "text/x-python",
   "name": "python",
   "nbconvert_exporter": "python",
   "pygments_lexer": "ipython3",
   "version": "3.7.15"
  },
  "vscode": {
   "interpreter": {
    "hash": "d8341897ff419221d780f9a95c4fa7d04e3c455196529406791fce95faaad134"
   }
  }
 },
 "nbformat": 4,
 "nbformat_minor": 2
}
