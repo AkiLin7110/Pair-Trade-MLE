{
 "cells": [
  {
   "cell_type": "code",
   "execution_count": 1,
   "metadata": {
    "ExecuteTime": {
     "end_time": "2023-01-05T15:44:22.678123Z",
     "start_time": "2023-01-05T15:44:22.673698Z"
    }
   },
   "outputs": [],
   "source": [
    "import pandas as pd\n",
    "import numpy as np\n",
    "\n",
    "import math\n",
    "import scipy.optimize as opt\n"
   ]
  },
  {
   "cell_type": "code",
   "execution_count": 2,
   "metadata": {
    "ExecuteTime": {
     "end_time": "2023-01-05T15:44:29.097329Z",
     "start_time": "2023-01-05T15:44:23.247376Z"
    }
   },
   "outputs": [],
   "source": [
    "# Data: Close\n",
    "db = pd.read_excel('Data.xlsx', index_col = \"Date\")"
   ]
  },
  {
   "cell_type": "markdown",
   "metadata": {},
   "source": [
    "# MSD"
   ]
  },
  {
   "cell_type": "code",
   "execution_count": 3,
   "metadata": {
    "ExecuteTime": {
     "end_time": "2023-01-05T15:44:33.068514Z",
     "start_time": "2023-01-05T15:44:33.028412Z"
    }
   },
   "outputs": [],
   "source": [
    "db.index = pd.to_datetime(db.index)\n",
    "MSD_df = db['2006':'2013']\n",
    "MSD_df = (MSD_df-MSD_df.mean())/MSD_df.std() #change rolling\n",
    "MSD_df = MSD_df.dropna(axis = 1) #drop nan"
   ]
  },
  {
   "cell_type": "code",
   "execution_count": 4,
   "metadata": {
    "ExecuteTime": {
     "end_time": "2023-01-05T15:44:34.016177Z",
     "start_time": "2023-01-05T15:44:33.801218Z"
    }
   },
   "outputs": [],
   "source": [
    "target = {}\n",
    "for i in range(0,len(MSD_df.columns)-1):\n",
    "    for j in range(i+1,len(MSD_df.columns)):\n",
    "        tmp = ((MSD_df.iloc[:,i] - MSD_df.iloc[:,j])**2).sum()\n",
    "        target[str(MSD_df.columns[i])+','+str(MSD_df.columns[j])] = tmp"
   ]
  },
  {
   "cell_type": "code",
   "execution_count": 5,
   "metadata": {
    "ExecuteTime": {
     "end_time": "2023-01-05T15:44:34.739775Z",
     "start_time": "2023-01-05T15:44:34.723618Z"
    }
   },
   "outputs": [
    {
     "data": {
      "text/html": [
       "<div>\n",
       "<style scoped>\n",
       "    .dataframe tbody tr th:only-of-type {\n",
       "        vertical-align: middle;\n",
       "    }\n",
       "\n",
       "    .dataframe tbody tr th {\n",
       "        vertical-align: top;\n",
       "    }\n",
       "\n",
       "    .dataframe thead th {\n",
       "        text-align: right;\n",
       "    }\n",
       "</style>\n",
       "<table border=\"1\" class=\"dataframe\">\n",
       "  <thead>\n",
       "    <tr style=\"text-align: right;\">\n",
       "      <th></th>\n",
       "      <th>0</th>\n",
       "    </tr>\n",
       "  </thead>\n",
       "  <tbody>\n",
       "    <tr>\n",
       "      <th>DIS,TRV</th>\n",
       "      <td>106.019533</td>\n",
       "    </tr>\n",
       "    <tr>\n",
       "      <th>IBM,MCD</th>\n",
       "      <td>174.553811</td>\n",
       "    </tr>\n",
       "    <tr>\n",
       "      <th>AAPL,IBM</th>\n",
       "      <td>183.653680</td>\n",
       "    </tr>\n",
       "    <tr>\n",
       "      <th>CVX,KO</th>\n",
       "      <td>205.031258</td>\n",
       "    </tr>\n",
       "    <tr>\n",
       "      <th>IBM,KO</th>\n",
       "      <td>225.295065</td>\n",
       "    </tr>\n",
       "    <tr>\n",
       "      <th>DIS,HD</th>\n",
       "      <td>264.348677</td>\n",
       "    </tr>\n",
       "    <tr>\n",
       "      <th>HD,TRV</th>\n",
       "      <td>282.786437</td>\n",
       "    </tr>\n",
       "    <tr>\n",
       "      <th>PEP,PG</th>\n",
       "      <td>298.596370</td>\n",
       "    </tr>\n",
       "    <tr>\n",
       "      <th>DIS,MMM</th>\n",
       "      <td>300.548727</td>\n",
       "    </tr>\n",
       "    <tr>\n",
       "      <th>GOOGL,TRV</th>\n",
       "      <td>304.718140</td>\n",
       "    </tr>\n",
       "  </tbody>\n",
       "</table>\n",
       "</div>"
      ],
      "text/plain": [
       "                    0\n",
       "DIS,TRV    106.019533\n",
       "IBM,MCD    174.553811\n",
       "AAPL,IBM   183.653680\n",
       "CVX,KO     205.031258\n",
       "IBM,KO     225.295065\n",
       "DIS,HD     264.348677\n",
       "HD,TRV     282.786437\n",
       "PEP,PG     298.596370\n",
       "DIS,MMM    300.548727\n",
       "GOOGL,TRV  304.718140"
      ]
     },
     "execution_count": 5,
     "metadata": {},
     "output_type": "execute_result"
    }
   ],
   "source": [
    "target_df = pd.DataFrame.from_dict(target, orient='index')\n",
    "target_df = target_df.sort_values(by = 0)[0:10]\n",
    "target_df"
   ]
  },
  {
   "cell_type": "code",
   "execution_count": 6,
   "metadata": {
    "ExecuteTime": {
     "end_time": "2023-01-05T15:44:38.065857Z",
     "start_time": "2023-01-05T15:44:38.030914Z"
    }
   },
   "outputs": [
    {
     "data": {
      "text/html": [
       "<div>\n",
       "<style scoped>\n",
       "    .dataframe tbody tr th:only-of-type {\n",
       "        vertical-align: middle;\n",
       "    }\n",
       "\n",
       "    .dataframe tbody tr th {\n",
       "        vertical-align: top;\n",
       "    }\n",
       "\n",
       "    .dataframe thead th {\n",
       "        text-align: right;\n",
       "    }\n",
       "</style>\n",
       "<table border=\"1\" class=\"dataframe\">\n",
       "  <thead>\n",
       "    <tr style=\"text-align: right;\">\n",
       "      <th></th>\n",
       "      <th>DIS</th>\n",
       "      <th>TRV</th>\n",
       "    </tr>\n",
       "    <tr>\n",
       "      <th>Date</th>\n",
       "      <th></th>\n",
       "      <th></th>\n",
       "    </tr>\n",
       "  </thead>\n",
       "  <tbody>\n",
       "    <tr>\n",
       "      <th>2006-01-04</th>\n",
       "      <td>-0.016803</td>\n",
       "      <td>0.011089</td>\n",
       "    </tr>\n",
       "    <tr>\n",
       "      <th>2006-01-05</th>\n",
       "      <td>0.017507</td>\n",
       "      <td>0.009677</td>\n",
       "    </tr>\n",
       "    <tr>\n",
       "      <th>2006-01-06</th>\n",
       "      <td>0.013519</td>\n",
       "      <td>0.005538</td>\n",
       "    </tr>\n",
       "    <tr>\n",
       "      <th>2006-01-09</th>\n",
       "      <td>0.010509</td>\n",
       "      <td>0.000424</td>\n",
       "    </tr>\n",
       "    <tr>\n",
       "      <th>2006-01-10</th>\n",
       "      <td>0.012800</td>\n",
       "      <td>-0.007199</td>\n",
       "    </tr>\n",
       "    <tr>\n",
       "      <th>...</th>\n",
       "      <td>...</td>\n",
       "      <td>...</td>\n",
       "    </tr>\n",
       "    <tr>\n",
       "      <th>2013-12-24</th>\n",
       "      <td>0.007778</td>\n",
       "      <td>0.003701</td>\n",
       "    </tr>\n",
       "    <tr>\n",
       "      <th>2013-12-26</th>\n",
       "      <td>0.010427</td>\n",
       "      <td>0.005811</td>\n",
       "    </tr>\n",
       "    <tr>\n",
       "      <th>2013-12-27</th>\n",
       "      <td>-0.003618</td>\n",
       "      <td>-0.001778</td>\n",
       "    </tr>\n",
       "    <tr>\n",
       "      <th>2013-12-30</th>\n",
       "      <td>0.025286</td>\n",
       "      <td>0.004786</td>\n",
       "    </tr>\n",
       "    <tr>\n",
       "      <th>2013-12-31</th>\n",
       "      <td>0.002230</td>\n",
       "      <td>0.002880</td>\n",
       "    </tr>\n",
       "  </tbody>\n",
       "</table>\n",
       "<p>2012 rows × 2 columns</p>\n",
       "</div>"
      ],
      "text/plain": [
       "                 DIS       TRV\n",
       "Date                          \n",
       "2006-01-04 -0.016803  0.011089\n",
       "2006-01-05  0.017507  0.009677\n",
       "2006-01-06  0.013519  0.005538\n",
       "2006-01-09  0.010509  0.000424\n",
       "2006-01-10  0.012800 -0.007199\n",
       "...              ...       ...\n",
       "2013-12-24  0.007778  0.003701\n",
       "2013-12-26  0.010427  0.005811\n",
       "2013-12-27 -0.003618 -0.001778\n",
       "2013-12-30  0.025286  0.004786\n",
       "2013-12-31  0.002230  0.002880\n",
       "\n",
       "[2012 rows x 2 columns]"
      ]
     },
     "execution_count": 6,
     "metadata": {},
     "output_type": "execute_result"
    }
   ],
   "source": [
    "pair1_df_train = db.loc[\"2006\":\"2013\",target_df.index[0].split(\",\")].pct_change(1).dropna()\n",
    "pair1_df_test = db.loc[\"2014\":\"2014\",target_df.index[0].split(\",\")].pct_change(1).dropna()\n",
    "pair1_df_train"
   ]
  },
  {
   "cell_type": "code",
   "execution_count": 7,
   "metadata": {},
   "outputs": [],
   "source": [
    "# ytlist = pair1_df_train.iloc[:,0] - pair1_df_train.iloc[:,1]"
   ]
  },
  {
   "cell_type": "code",
   "execution_count": 8,
   "metadata": {
    "ExecuteTime": {
     "end_time": "2023-01-05T15:44:44.714940Z",
     "start_time": "2023-01-05T15:44:44.709144Z"
    }
   },
   "outputs": [],
   "source": [
    "from scipy.stats import t\n",
    "\n",
    "# ytlist = [] #用來收集過去的yt們，算z_td、s_z時會用到\n",
    "\n",
    "# #Table1 參數\n",
    "# fi_1_0 = 0.1046\n",
    "# fi_1_1 = 0.3886\n",
    "# fi_2_0 = 0.0961\n",
    "# fi_2_1 = -0.2403\n",
    "# alpha_1_0 = 0.1639\n",
    "# alpha_1_1 = 0.2132\n",
    "# beta_1_1 = 0.6631\n",
    "# alpha_2_0 = -0.1035\n",
    "# alpha_2_1 = -0.1063\n",
    "# beta_2_1 = -0.1751\n",
    "# v = 7\n",
    "# gamma = 5.5563\n",
    "# c_1 = -0.3569\n",
    "# c_2 = 0.3136\n",
    "# d = 1\n",
    "# z_td = yt[len(yt)-d:-1] #t-d\n",
    "# s_z = std(z_td)\n",
    "\n",
    "# Fdis = (1+np.exp(-gamma*(z_td - c_1)(z_td - c_2))/s_z)**(-1)\n",
    "# h_1_t = alpha_1_0 + alpha_1_1*a_t1**2 + beta_1_1*h_t1\n",
    "# h_2_t = alpha_2_0 + alpha_2_1*a_t1**2 + beta_2_1*h_t1\n",
    "# miu_1 = fi_1_0 + fi_1_1*y_t1\n",
    "# miu_2 = fi_2_0 + fi_2_1*y_t1\n",
    "# h_t = h_1_t + Fdis*h_2_t\n",
    "# epsilon = t.rvs(v, size=1) #t-distribution\n",
    "# a_t = h_t**0.5*epsilon #error term\n",
    "# y_t = miu_1 + Fdis*miu_2 + a_t #ST-GARCH\n"
   ]
  },
  {
   "cell_type": "code",
   "execution_count": 9,
   "metadata": {
    "ExecuteTime": {
     "end_time": "2023-01-05T16:00:06.319689Z",
     "start_time": "2023-01-05T16:00:06.304841Z"
    },
    "scrolled": true
   },
   "outputs": [
    {
     "data": {
      "text/plain": [
       "Date\n",
       "2006-01-04   -0.027893\n",
       "2006-01-05    0.007830\n",
       "2006-01-06    0.007981\n",
       "2006-01-09    0.010086\n",
       "2006-01-10    0.019999\n",
       "2006-01-11   -0.006730\n",
       "2006-01-12    0.009006\n",
       "2006-01-13    0.004873\n",
       "2006-01-17    0.004903\n",
       "2006-01-18   -0.002139\n",
       "2006-01-19    0.046898\n",
       "2006-01-20    0.000427\n",
       "2006-01-23   -0.019551\n",
       "2006-01-24    0.023248\n",
       "2006-01-25   -0.007702\n",
       "2006-01-26   -0.047477\n",
       "2006-01-27   -0.007359\n",
       "2006-01-30    0.021383\n",
       "2006-01-31    0.012919\n",
       "2006-02-01   -0.006649\n",
       "2006-02-02    0.000069\n",
       "2006-02-03    0.007673\n",
       "2006-02-06    0.012736\n",
       "2006-02-07    0.077869\n",
       "2006-02-08    0.009547\n",
       "2006-02-09   -0.001655\n",
       "2006-02-10   -0.005409\n",
       "2006-02-13   -0.002098\n",
       "2006-02-14   -0.011618\n",
       "2006-02-15    0.014558\n",
       "dtype: float64"
      ]
     },
     "execution_count": 9,
     "metadata": {},
     "output_type": "execute_result"
    }
   ],
   "source": [
    "z_td = pair1_df_train.iloc[0:30,0]-pair1_df_train.iloc[0:30,1]\n",
    "z_td"
   ]
  },
  {
   "cell_type": "code",
   "execution_count": 10,
   "metadata": {
    "ExecuteTime": {
     "end_time": "2023-01-05T16:00:07.030191Z",
     "start_time": "2023-01-05T16:00:07.011276Z"
    }
   },
   "outputs": [],
   "source": [
    "# fi_1_0, fi_1_1, fi_2_0, fi_2_1, alpha_1_0, alpha_1_1, beta_1_1, alpha_2_0, alpha_2_1, beta_2_1, v, gamma, c_1, c_2 = np.array([0.1046, 0.3886, 0.0961, -0.2403, 0.1639, 0.2132, 0.6631, -0.1035, -0.1063, -0.1751, 7.1122, 5.5563, -0.3569, 0.3136])\n",
    "# tmp = 30\n",
    "# z_td = pair1_df_train.iloc[0:tmp,0] - pair1_df_train.iloc[0:tmp,1]\n",
    "# s_z = z_td.std()   \n",
    "# Fdis = (1+np.exp(-gamma*(z_td - c_1)*(z_td - c_2)/s_z))**(-1)\n",
    "# Fdis"
   ]
  },
  {
   "cell_type": "code",
   "execution_count": 34,
   "metadata": {
    "ExecuteTime": {
     "end_time": "2023-01-05T16:00:22.405515Z",
     "start_time": "2023-01-05T16:00:22.381441Z"
    }
   },
   "outputs": [],
   "source": [
    "def fun_MLE(p):\n",
    "    fi_1_0, fi_1_1, fi_2_0, fi_2_1, alpha_1_0, alpha_1_1, beta_1_1, alpha_2_0, alpha_2_1, beta_2_1, v, gamma, c_1, c_2= p\n",
    "    # Define h_t1\n",
    "    tmp = 30\n",
    "    target = 0\n",
    "    z_td = pair1_df_train.iloc[0:tmp,0]-pair1_df_train.iloc[0:tmp,1]\n",
    "    z_td = z_td.to_numpy()\n",
    "    s_z = z_td.std()\n",
    "    Fdis = (1+np.exp(-gamma*(z_td[-1] - c_1)*(z_td[-1] - c_2)/s_z))**(-1)\n",
    "    h_1_t = pair1_df_train.iloc[0:tmp,0].std()\n",
    "    h_2_t = pair1_df_train.iloc[0:tmp,1].std()\n",
    "    h_t1 = h_1_t + Fdis*h_2_t\n",
    "    epsilon = t.rvs(v, size=1) #t-distribution\n",
    "    a_t1 = h_t1**0.5*epsilon #error term\n",
    "\n",
    "\n",
    "    y_t1 = pair1_df_train.iloc[tmp-1,0] - pair1_df_train.iloc[tmp-1,1]\n",
    "    # Define sigma, real_y_t, y_t\n",
    "    for i in range(tmp,len(pair1_df_train)):\n",
    "        z_td = pair1_df_train.iloc[0:i,0]-pair1_df_train.iloc[0:i,1]\n",
    "        z_td = z_td.to_numpy()\n",
    "        s_z = z_td.std()\n",
    "        real_y_t = pair1_df_train.iloc[i,0] - pair1_df_train.iloc[i,1]\n",
    "        # real_y_t = real_y_t.to_numpy()\n",
    "        h_1_t = alpha_1_0 + alpha_1_1*a_t1**2 + beta_1_1*h_t1\n",
    "        h_2_t = alpha_2_0 + alpha_2_1*a_t1**2 + beta_2_1*h_t1\n",
    "        miu_1 = fi_1_0 + fi_1_1*y_t1\n",
    "        miu_2 = fi_2_0 + fi_2_1*y_t1\n",
    "        h_t = h_1_t + Fdis*h_2_t\n",
    "        epsilon = t.rvs(v, size=1) #t-distribution\n",
    "        a_t = h_t**0.5*epsilon #error term\n",
    "        y_t = miu_1 + Fdis*miu_2 + a_t #ST-GARCH\n",
    "\n",
    "        h_t1 = h_t\n",
    "        a_t1 = a_t\n",
    "        y_t1 = real_y_t\n",
    "\n",
    "        sigma = h_t\n",
    "        target += np.log((2*np.pi*sigma**2)**(-0.5)*np.exp(-(real_y_t-y_t)**2/(2*sigma**2))) #MLE\n",
    "        # print(target)\n",
    "    target = -target\n",
    "    return target"
   ]
  },
  {
   "cell_type": "code",
   "execution_count": 35,
   "metadata": {
    "ExecuteTime": {
     "start_time": "2023-01-05T16:00:23.829Z"
    }
   },
   "outputs": [
    {
     "data": {
      "text/plain": [
       "     fun: 4000.680790162105\n",
       "     jac: array([-4.67644403e+09, -5.97781794e+09, -1.68456072e+10,  2.34019268e+10,\n",
       "        1.15454877e+10, -9.18488782e+09,  1.22562440e+10, -7.16536776e+09,\n",
       "       -1.13408973e+10,  1.20054652e+10, -7.68491276e+09,  1.68119867e+10,\n",
       "        4.78455167e+09, -6.21460380e+09])\n",
       " message: 'Inequality constraints incompatible'\n",
       "    nfev: 15\n",
       "     nit: 1\n",
       "    njev: 1\n",
       "  status: 4\n",
       " success: False\n",
       "       x: array([ 0.1046,  0.3886,  0.0961, -0.2403,  0.1639,  0.2132,  0.6631,\n",
       "       -0.1035, -0.1063, -0.1751,  7.1122,  5.5563, -0.3569,  0.3136])"
      ]
     },
     "execution_count": 35,
     "metadata": {},
     "output_type": "execute_result"
    }
   ],
   "source": [
    "#MLE\n",
    "\n",
    "initial = np.array([0.1046, 0.3886, 0.0961, -0.2403, 0.1639, 0.2132, 0.6631, -0.1035, -0.1063, -0.1751, 7.1122, 5.5563, -0.3569, 0.3136]) \n",
    "constraints = ({'type':'ineq','fun':lambda x: x[4]+1e-8 },\n",
    "                {'type':'ineq','fun':lambda x: x[5]+1e-8},\n",
    "                {'type':'ineq','fun':lambda x: x[6]+1e-8 },\n",
    "                {'type':'ineq','fun':lambda x: x[5]+x[8]+1e-8},\n",
    "                {'type':'ineq','fun':lambda x: x[6]+x[9]+1e-8},\n",
    "                {'type':'ineq','fun':lambda x: -x[5]-x[8]-x[6]-x[9]+1},\n",
    "                \n",
    "                  )\n",
    "minimum = opt.minimize(fun_MLE, initial, constraints = constraints)\n",
    "minimum"
   ]
  },
  {
   "cell_type": "code",
   "execution_count": 20,
   "metadata": {},
   "outputs": [
    {
     "data": {
      "text/plain": [
       "array([ 0.1 ,  0.4 ,  0.1 , -0.25,  0.15,  0.2 ,  0.7 , -0.1 , -0.1 ,\n",
       "       -0.2 ,  7.  ,  5.  , -0.35,  0.3 ])"
      ]
     },
     "execution_count": 20,
     "metadata": {},
     "output_type": "execute_result"
    }
   ],
   "source": [
    "minimum.x"
   ]
  },
  {
   "cell_type": "markdown",
   "metadata": {},
   "source": [
    "# Trade"
   ]
  },
  {
   "cell_type": "code",
   "execution_count": 13,
   "metadata": {},
   "outputs": [],
   "source": [
    "df_return = db.pct_change()"
   ]
  },
  {
   "cell_type": "code",
   "execution_count": 14,
   "metadata": {},
   "outputs": [],
   "source": [
    "global results"
   ]
  },
  {
   "cell_type": "code",
   "execution_count": 15,
   "metadata": {},
   "outputs": [],
   "source": [
    "results = {'signals':[],\n",
    "           'returns':[],\n",
    "           'A_SoldPrices':[],\n",
    "           'A_BoughtPrices':[],\n",
    "           'B_SoldPrices':[],\n",
    "           'B_BoughtPrices':[]\n",
    "           }"
   ]
  },
  {
   "cell_type": "code",
   "execution_count": 16,
   "metadata": {},
   "outputs": [],
   "source": [
    "# Input1 : Real return spread\n",
    "# Input2 : Estimated return spread\n",
    "# Output : Gain, Trading Signal\n",
    "\n",
    "y1 = df_return.iloc[-1,0] \n",
    "y2 = df_return.iloc[-1,1]\n",
    "p1 = db.iloc[-1:,0] #A Price\n",
    "p2 = db.iloc[-1,1] #B Price\n",
    "\n",
    "#First trade\n",
    "i = 0\n",
    "\n",
    "#signal\n",
    "tmp0 = 0\n",
    "tmp1 = 1\n",
    "tmp2 = -1\n",
    "\n",
    "#First trade\n",
    "if i == 0:\n",
    "    if (y1 > y2):\n",
    "        signal = tmp1\n",
    "        results['A_SoldPrices'].append(p1)\n",
    "        results['B_BoughtPrices'].append(p2)\n",
    "        i = 1\n",
    "        tmp = 0\n",
    "    \n",
    "    elif (y1 < y2):  \n",
    "        signal = tmp2\n",
    "        results['A_BoughtPrices'].append(p1)\n",
    "        results['B_SoldPrices'].append(p2) \n",
    "        i = 1\n",
    "        tmp = 0\n",
    "    else:\n",
    "        signal = tmp0\n",
    "        i = 0\n",
    "        tmp = 1\n",
    "\n",
    "elif i == 1:\n",
    "    # After first trade\n",
    "    if (y1 > y2) & (results['signals'][-1] == tmp1) :\n",
    "        signal = tmp1\n",
    "        results['A_SoldPrices'].append(y1)\n",
    "        results['B_BoughtPrices'].append(y2)\n",
    "        tmp = -np.log(results['A_SoldPrices'][-1]/results['A_BoughtPrices'][-1])+np.log(results['B_SoldPrices'][-1]/results['B_BoughtPrices'][-1])\n",
    "  \n",
    "    elif (y1 <y2) & (results['signals'][-1] == tmp2):  \n",
    "        signal = tmp2\n",
    "        results['A_BoughtPrices'].append(y1)\n",
    "        results['B_SoldPrices'].append(y2)\n",
    "        tmp = np.log(results['A_SoldPrices'][-1]/results['A_BoughtPrices'][-1])-np.log(results['B_SoldPrices'][-1]/results['B_BoughtPrices'][-1]) \n",
    "\n",
    "    else:\n",
    "        signal = tmp0\n",
    "        tmp = 0\n",
    "\n",
    "\n",
    "results['signals'].append(signal)\n",
    "results['returns'].append(tmp)"
   ]
  }
 ],
 "metadata": {
  "kernelspec": {
   "display_name": "Python 3 (ipykernel)",
   "language": "python",
   "name": "python3"
  },
  "language_info": {
   "codemirror_mode": {
    "name": "ipython",
    "version": 3
   },
   "file_extension": ".py",
   "mimetype": "text/x-python",
   "name": "python",
   "nbconvert_exporter": "python",
   "pygments_lexer": "ipython3",
   "version": "3.7.15"
  },
  "varInspector": {
   "cols": {
    "lenName": 16,
    "lenType": 16,
    "lenVar": "100"
   },
   "kernels_config": {
    "python": {
     "delete_cmd_postfix": "",
     "delete_cmd_prefix": "del ",
     "library": "var_list.py",
     "varRefreshCmd": "print(var_dic_list())"
    },
    "r": {
     "delete_cmd_postfix": ") ",
     "delete_cmd_prefix": "rm(",
     "library": "var_list.r",
     "varRefreshCmd": "cat(var_dic_list()) "
    }
   },
   "oldHeight": 122.852,
   "position": {
    "height": "40px",
    "left": "1170px",
    "right": "20px",
    "top": "120px",
    "width": "250px"
   },
   "types_to_exclude": [
    "module",
    "function",
    "builtin_function_or_method",
    "instance",
    "_Feature"
   ],
   "varInspector_section_display": "none",
   "window_display": true
  },
  "vscode": {
   "interpreter": {
    "hash": "d8341897ff419221d780f9a95c4fa7d04e3c455196529406791fce95faaad134"
   }
  }
 },
 "nbformat": 4,
 "nbformat_minor": 2
}
