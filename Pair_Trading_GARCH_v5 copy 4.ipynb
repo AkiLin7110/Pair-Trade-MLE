{
 "cells": [
  {
   "cell_type": "code",
   "execution_count": 1,
   "metadata": {
    "ExecuteTime": {
     "end_time": "2023-01-05T15:44:22.678123Z",
     "start_time": "2023-01-05T15:44:22.673698Z"
    }
   },
   "outputs": [],
   "source": [
    "import pandas as pd\n",
    "import numpy as np\n",
    "\n",
    "import math\n",
    "import scipy.optimize as opt\n",
    "import random\n",
    "random.seed(108)\n"
   ]
  },
  {
   "cell_type": "code",
   "execution_count": 2,
   "metadata": {
    "ExecuteTime": {
     "end_time": "2023-01-05T15:44:29.097329Z",
     "start_time": "2023-01-05T15:44:23.247376Z"
    }
   },
   "outputs": [],
   "source": [
    "# Data: Close\n",
    "db = pd.read_excel('Data.xlsx', index_col = \"Date\")"
   ]
  },
  {
   "cell_type": "markdown",
   "metadata": {},
   "source": [
    "# MSD"
   ]
  },
  {
   "cell_type": "code",
   "execution_count": 3,
   "metadata": {
    "ExecuteTime": {
     "end_time": "2023-01-05T15:44:33.068514Z",
     "start_time": "2023-01-05T15:44:33.028412Z"
    }
   },
   "outputs": [],
   "source": [
    "db.index = pd.to_datetime(db.index)\n",
    "MSD_df = db['2006':'2013']\n",
    "MSD_df = (MSD_df-MSD_df.mean())/MSD_df.std() #change rolling\n",
    "MSD_df = MSD_df.dropna(axis = 1) #drop nan"
   ]
  },
  {
   "cell_type": "code",
   "execution_count": 4,
   "metadata": {
    "ExecuteTime": {
     "end_time": "2023-01-05T15:44:34.016177Z",
     "start_time": "2023-01-05T15:44:33.801218Z"
    }
   },
   "outputs": [],
   "source": [
    "target = {}\n",
    "for i in range(0,len(MSD_df.columns)-1):\n",
    "    for j in range(i+1,len(MSD_df.columns)):\n",
    "        tmp = ((MSD_df.iloc[:,i] - MSD_df.iloc[:,j])**2).sum()\n",
    "        target[str(MSD_df.columns[i])+','+str(MSD_df.columns[j])] = tmp"
   ]
  },
  {
   "cell_type": "code",
   "execution_count": 5,
   "metadata": {
    "ExecuteTime": {
     "end_time": "2023-01-05T15:44:34.739775Z",
     "start_time": "2023-01-05T15:44:34.723618Z"
    }
   },
   "outputs": [
    {
     "data": {
      "text/html": [
       "<div>\n",
       "<style scoped>\n",
       "    .dataframe tbody tr th:only-of-type {\n",
       "        vertical-align: middle;\n",
       "    }\n",
       "\n",
       "    .dataframe tbody tr th {\n",
       "        vertical-align: top;\n",
       "    }\n",
       "\n",
       "    .dataframe thead th {\n",
       "        text-align: right;\n",
       "    }\n",
       "</style>\n",
       "<table border=\"1\" class=\"dataframe\">\n",
       "  <thead>\n",
       "    <tr style=\"text-align: right;\">\n",
       "      <th></th>\n",
       "      <th>0</th>\n",
       "    </tr>\n",
       "  </thead>\n",
       "  <tbody>\n",
       "    <tr>\n",
       "      <th>DIS,TRV</th>\n",
       "      <td>106.019533</td>\n",
       "    </tr>\n",
       "    <tr>\n",
       "      <th>IBM,MCD</th>\n",
       "      <td>174.553811</td>\n",
       "    </tr>\n",
       "    <tr>\n",
       "      <th>AAPL,IBM</th>\n",
       "      <td>183.653680</td>\n",
       "    </tr>\n",
       "    <tr>\n",
       "      <th>CVX,KO</th>\n",
       "      <td>205.031258</td>\n",
       "    </tr>\n",
       "    <tr>\n",
       "      <th>IBM,KO</th>\n",
       "      <td>225.295065</td>\n",
       "    </tr>\n",
       "    <tr>\n",
       "      <th>DIS,HD</th>\n",
       "      <td>264.348677</td>\n",
       "    </tr>\n",
       "    <tr>\n",
       "      <th>HD,TRV</th>\n",
       "      <td>282.786437</td>\n",
       "    </tr>\n",
       "    <tr>\n",
       "      <th>PEP,PG</th>\n",
       "      <td>298.596370</td>\n",
       "    </tr>\n",
       "    <tr>\n",
       "      <th>DIS,MMM</th>\n",
       "      <td>300.548727</td>\n",
       "    </tr>\n",
       "    <tr>\n",
       "      <th>GOOGL,TRV</th>\n",
       "      <td>304.718140</td>\n",
       "    </tr>\n",
       "  </tbody>\n",
       "</table>\n",
       "</div>"
      ],
      "text/plain": [
       "                    0\n",
       "DIS,TRV    106.019533\n",
       "IBM,MCD    174.553811\n",
       "AAPL,IBM   183.653680\n",
       "CVX,KO     205.031258\n",
       "IBM,KO     225.295065\n",
       "DIS,HD     264.348677\n",
       "HD,TRV     282.786437\n",
       "PEP,PG     298.596370\n",
       "DIS,MMM    300.548727\n",
       "GOOGL,TRV  304.718140"
      ]
     },
     "execution_count": 5,
     "metadata": {},
     "output_type": "execute_result"
    }
   ],
   "source": [
    "target_df = pd.DataFrame.from_dict(target, orient='index')\n",
    "target_df = target_df.sort_values(by = 0)[0:10]\n",
    "target_df"
   ]
  },
  {
   "cell_type": "code",
   "execution_count": 6,
   "metadata": {},
   "outputs": [
    {
     "data": {
      "text/html": [
       "<div>\n",
       "<style scoped>\n",
       "    .dataframe tbody tr th:only-of-type {\n",
       "        vertical-align: middle;\n",
       "    }\n",
       "\n",
       "    .dataframe tbody tr th {\n",
       "        vertical-align: top;\n",
       "    }\n",
       "\n",
       "    .dataframe thead th {\n",
       "        text-align: right;\n",
       "    }\n",
       "</style>\n",
       "<table border=\"1\" class=\"dataframe\">\n",
       "  <thead>\n",
       "    <tr style=\"text-align: right;\">\n",
       "      <th></th>\n",
       "      <th>DIS</th>\n",
       "      <th>HD</th>\n",
       "    </tr>\n",
       "    <tr>\n",
       "      <th>Date</th>\n",
       "      <th></th>\n",
       "      <th></th>\n",
       "    </tr>\n",
       "  </thead>\n",
       "  <tbody>\n",
       "    <tr>\n",
       "      <th>2006-01-04</th>\n",
       "      <td>-0.016803</td>\n",
       "      <td>-0.018429</td>\n",
       "    </tr>\n",
       "    <tr>\n",
       "      <th>2006-01-05</th>\n",
       "      <td>0.017507</td>\n",
       "      <td>-0.009881</td>\n",
       "    </tr>\n",
       "    <tr>\n",
       "      <th>2006-01-06</th>\n",
       "      <td>0.013519</td>\n",
       "      <td>0.007485</td>\n",
       "    </tr>\n",
       "    <tr>\n",
       "      <th>2006-01-09</th>\n",
       "      <td>0.010509</td>\n",
       "      <td>0.010896</td>\n",
       "    </tr>\n",
       "    <tr>\n",
       "      <th>2006-01-10</th>\n",
       "      <td>0.012800</td>\n",
       "      <td>0.024008</td>\n",
       "    </tr>\n",
       "    <tr>\n",
       "      <th>...</th>\n",
       "      <td>...</td>\n",
       "      <td>...</td>\n",
       "    </tr>\n",
       "    <tr>\n",
       "      <th>2013-12-24</th>\n",
       "      <td>0.007778</td>\n",
       "      <td>0.000993</td>\n",
       "    </tr>\n",
       "    <tr>\n",
       "      <th>2013-12-26</th>\n",
       "      <td>0.010427</td>\n",
       "      <td>0.011285</td>\n",
       "    </tr>\n",
       "    <tr>\n",
       "      <th>2013-12-27</th>\n",
       "      <td>-0.003618</td>\n",
       "      <td>0.001104</td>\n",
       "    </tr>\n",
       "    <tr>\n",
       "      <th>2013-12-30</th>\n",
       "      <td>0.025286</td>\n",
       "      <td>0.003675</td>\n",
       "    </tr>\n",
       "    <tr>\n",
       "      <th>2013-12-31</th>\n",
       "      <td>0.002230</td>\n",
       "      <td>0.004882</td>\n",
       "    </tr>\n",
       "  </tbody>\n",
       "</table>\n",
       "<p>2012 rows × 2 columns</p>\n",
       "</div>"
      ],
      "text/plain": [
       "                 DIS        HD\n",
       "Date                          \n",
       "2006-01-04 -0.016803 -0.018429\n",
       "2006-01-05  0.017507 -0.009881\n",
       "2006-01-06  0.013519  0.007485\n",
       "2006-01-09  0.010509  0.010896\n",
       "2006-01-10  0.012800  0.024008\n",
       "...              ...       ...\n",
       "2013-12-24  0.007778  0.000993\n",
       "2013-12-26  0.010427  0.011285\n",
       "2013-12-27 -0.003618  0.001104\n",
       "2013-12-30  0.025286  0.003675\n",
       "2013-12-31  0.002230  0.004882\n",
       "\n",
       "[2012 rows x 2 columns]"
      ]
     },
     "execution_count": 6,
     "metadata": {},
     "output_type": "execute_result"
    }
   ],
   "source": [
    "pair1_df_train = db.loc[\"2006\":\"2013\",target_df.index[5].split(\",\")].pct_change(1).dropna()\n",
    "pair1_df_test = db.loc[\"2014\":\"2014\",target_df.index[5].split(\",\")].pct_change(1).dropna()\n",
    "pair1_df_train"
   ]
  },
  {
   "cell_type": "code",
   "execution_count": 7,
   "metadata": {},
   "outputs": [],
   "source": [
    "# ytlist = pair1_df_train.iloc[:,0] - pair1_df_train.iloc[:,1]"
   ]
  },
  {
   "cell_type": "code",
   "execution_count": 8,
   "metadata": {
    "ExecuteTime": {
     "end_time": "2023-01-05T15:44:44.714940Z",
     "start_time": "2023-01-05T15:44:44.709144Z"
    }
   },
   "outputs": [],
   "source": [
    "from scipy.stats import t\n",
    "\n",
    "# ytlist = [] #用來收集過去的yt們，算z_td、s_z時會用到\n",
    "\n",
    "# #Table1 參數\n",
    "# fi_1_0 = 0.1046\n",
    "# fi_1_1 = 0.3886\n",
    "# fi_2_0 = 0.0961\n",
    "# fi_2_1 = -0.2403\n",
    "# alpha_1_0 = 0.1639\n",
    "# alpha_1_1 = 0.2132\n",
    "# beta_1_1 = 0.6631\n",
    "# alpha_2_0 = -0.1035\n",
    "# alpha_2_1 = -0.1063\n",
    "# beta_2_1 = -0.1751\n",
    "# v = 7\n",
    "# gamma = 5.5563\n",
    "# c_1 = -0.3569\n",
    "# c_2 = 0.3136\n",
    "# d = 1\n",
    "# z_td = yt[len(yt)-d:-1] #t-d\n",
    "# s_z = std(z_td)\n",
    "\n",
    "# Fdis = (1+np.exp(-gamma*(z_td - c_1)(z_td - c_2))/s_z)**(-1)\n",
    "# h_1_t = alpha_1_0 + alpha_1_1*a_t1**2 + beta_1_1*h_t1\n",
    "# h_2_t = alpha_2_0 + alpha_2_1*a_t1**2 + beta_2_1*h_t1\n",
    "# miu_1 = fi_1_0 + fi_1_1*y_t1\n",
    "# miu_2 = fi_2_0 + fi_2_1*y_t1\n",
    "# h_t = h_1_t + Fdis*h_2_t\n",
    "# epsilon = t.rvs(v, size=1) #t-distribution\n",
    "# a_t = h_t**0.5*epsilon #error term\n",
    "# y_t = miu_1 + Fdis*miu_2 + a_t #ST-GARCH\n"
   ]
  },
  {
   "cell_type": "code",
   "execution_count": 9,
   "metadata": {
    "ExecuteTime": {
     "end_time": "2023-01-05T16:00:06.319689Z",
     "start_time": "2023-01-05T16:00:06.304841Z"
    },
    "scrolled": true
   },
   "outputs": [
    {
     "data": {
      "text/plain": [
       "Date\n",
       "2006-01-04    0.001625\n",
       "2006-01-05    0.027389\n",
       "2006-01-06    0.006034\n",
       "2006-01-09   -0.000387\n",
       "2006-01-10   -0.011208\n",
       "2006-01-11   -0.018033\n",
       "2006-01-12    0.012443\n",
       "2006-01-13    0.017381\n",
       "2006-01-17   -0.004339\n",
       "2006-01-18   -0.015031\n",
       "2006-01-19    0.056067\n",
       "2006-01-20    0.007072\n",
       "2006-01-23    0.004173\n",
       "2006-01-24   -0.000732\n",
       "2006-01-25   -0.009543\n",
       "2006-01-26   -0.024656\n",
       "2006-01-27    0.009901\n",
       "2006-01-30    0.015151\n",
       "2006-01-31   -0.019642\n",
       "2006-02-01    0.006311\n",
       "2006-02-02   -0.000016\n",
       "2006-02-03   -0.000082\n",
       "2006-02-06    0.006288\n",
       "2006-02-07    0.088957\n",
       "2006-02-08   -0.006452\n",
       "2006-02-09   -0.001089\n",
       "2006-02-10   -0.005850\n",
       "2006-02-13   -0.022359\n",
       "2006-02-14   -0.023146\n",
       "2006-02-15   -0.004865\n",
       "dtype: float64"
      ]
     },
     "execution_count": 9,
     "metadata": {},
     "output_type": "execute_result"
    }
   ],
   "source": [
    "z_td = pair1_df_train.iloc[0:30,0]-pair1_df_train.iloc[0:30,1]\n",
    "z_td"
   ]
  },
  {
   "cell_type": "code",
   "execution_count": 10,
   "metadata": {
    "ExecuteTime": {
     "end_time": "2023-01-05T16:00:07.030191Z",
     "start_time": "2023-01-05T16:00:07.011276Z"
    }
   },
   "outputs": [],
   "source": [
    "# fi_1_0, fi_1_1, fi_2_0, fi_2_1, alpha_1_0, alpha_1_1, beta_1_1, alpha_2_0, alpha_2_1, beta_2_1, v, gamma, c_1, c_2 = np.array([0.1046, 0.3886, 0.0961, -0.2403, 0.1639, 0.2132, 0.6631, -0.1035, -0.1063, -0.1751, 7.1122, 5.5563, -0.3569, 0.3136])\n",
    "# tmp = 30\n",
    "# z_td = pair1_df_train.iloc[0:tmp,0] - pair1_df_train.iloc[0:tmp,1]\n",
    "# s_z = z_td.std()   \n",
    "# Fdis = (1+np.exp(-gamma*(z_td - c_1)*(z_td - c_2)/s_z))**(-1)\n",
    "# Fdis"
   ]
  },
  {
   "cell_type": "code",
   "execution_count": 11,
   "metadata": {
    "ExecuteTime": {
     "end_time": "2023-01-05T16:00:22.405515Z",
     "start_time": "2023-01-05T16:00:22.381441Z"
    }
   },
   "outputs": [],
   "source": [
    "def fun_MLE(x):\n",
    "    fi_1_0, fi_1_1, fi_2_0, fi_2_1, alpha_1_0, alpha_1_1, beta_1_1, alpha_2_0, alpha_2_1, beta_2_1, gamma, c_1, c_2= x\n",
    "    # Define h_t1\n",
    "    tmp = 30\n",
    "    target = 0\n",
    "    z_td = pair1_df_train.iloc[0:tmp,0]-pair1_df_train.iloc[0:tmp,1]\n",
    "    z_td = z_td.to_numpy()\n",
    "    s_z = z_td.std()\n",
    "    Fdis = (1+np.exp(-gamma*(z_td[-1] - c_1)*(z_td[-1] - c_2)/s_z))**(-1)\n",
    "    h_1_t = pair1_df_train.iloc[0:tmp,0].std()\n",
    "    h_2_t = pair1_df_train.iloc[0:tmp,1].std()\n",
    "    h_t1 = h_1_t + Fdis*h_2_t\n",
    "    epsilon = random.gauss(mu = 0, sigma = 1)\n",
    "    a_t1 = h_t1**0.5*epsilon #error term\n",
    "\n",
    "\n",
    "    y_t1 = pair1_df_train.iloc[tmp-1,0] - pair1_df_train.iloc[tmp-1,1]\n",
    "    # Define sigma, real_y_t, y_t\n",
    "    for i in range(tmp,len(pair1_df_train)):\n",
    "        z_td = pair1_df_train.iloc[0:i,0]-pair1_df_train.iloc[0:i,1]\n",
    "        z_td = z_td.to_numpy()\n",
    "        s_z = z_td.std()\n",
    "        real_y_t = pair1_df_train.iloc[i,0] - pair1_df_train.iloc[i,1]\n",
    "        # real_y_t = real_y_t.to_numpy()\n",
    "        h_1_t = alpha_1_0 + alpha_1_1*a_t1**2 + beta_1_1*h_t1\n",
    "        h_2_t = alpha_2_0 + alpha_2_1*a_t1**2 + beta_2_1*h_t1\n",
    "        miu_1 = fi_1_0 + fi_1_1*y_t1\n",
    "        miu_2 = fi_2_0 + fi_2_1*y_t1\n",
    "        h_t = h_1_t + Fdis*h_2_t\n",
    "        epsilon = random.gauss(mu = 0, sigma = 1)\n",
    "        a_t = h_t**0.5*epsilon #error term\n",
    "        y_t = miu_1 + Fdis*miu_2 + a_t #ST-GARCH\n",
    "\n",
    "        h_t1 = h_t\n",
    "        a_t1 = a_t\n",
    "        y_t1 = real_y_t\n",
    "\n",
    "        sigma = h_t\n",
    "        target += np.log((2*np.pi*sigma**2)**(-0.5)*np.exp(-(real_y_t-y_t)**2/(2*sigma**2))) #MLE\n",
    "        # print(target)\n",
    "    target = -target\n",
    "    \n",
    "    return target"
   ]
  },
  {
   "cell_type": "code",
   "execution_count": 12,
   "metadata": {
    "ExecuteTime": {
     "start_time": "2023-01-05T16:00:23.829Z"
    }
   },
   "outputs": [
    {
     "name": "stderr",
     "output_type": "stream",
     "text": [
      "/home/akilin/anaconda3/envs/gamma/lib/python3.7/site-packages/scipy/optimize/_hessian_update_strategy.py:186: UserWarning: delta_grad == 0.0. Check if the approximated function is linear. If the function is linear better results can be obtained by defining the Hessian as zero instead of using quasi-Newton approximations.\n",
      "  'approximations.', UserWarning)\n"
     ]
    },
    {
     "data": {
      "text/plain": [
       " barrier_parameter: 2.048000000000001e-09\n",
       " barrier_tolerance: 2.048000000000001e-09\n",
       "          cg_niter: 2125\n",
       "      cg_stop_cond: 2\n",
       "            constr: [array([0.20447194]), array([0.33255101]), array([0.51453841]), array([0.31908845]), array([0.30664506]), array([0.26358855]), array([5.1115791]), array([0.48546159]), array([0.25291059]), array([0.60009635]), array([ 2.61213803e-01,  1.46268625e-01,  4.08260791e-03, -1.92053336e-01,\n",
       "        2.04471932e-01,  3.32551006e-01,  5.14538410e-01, -1.90969216e-01,\n",
       "       -1.34625612e-02, -2.07893358e-01,  4.52987703e+00, -3.43630713e-01,\n",
       "        2.56465630e-01])]\n",
       "       constr_nfev: [5992, 5992, 5992, 5992, 5992, 5992, 5992, 5992, 5992, 5992, 0]\n",
       "       constr_nhev: [0, 0, 0, 0, 0, 0, 0, 0, 0, 0, 0]\n",
       "       constr_njev: [0, 0, 0, 0, 0, 0, 0, 0, 0, 0, 0]\n",
       "    constr_penalty: 1.0\n",
       "  constr_violation: 0.0\n",
       "    execution_time: 2710.8987154960632\n",
       "               fun: 2961.946370507688\n",
       "              grad: array([ 4.43349736e+09,  8.15480570e+09,  2.86226087e+09, -1.72947818e+10,\n",
       "        8.84487039e+09,  1.27267127e+10,  1.68960619e+10, -5.93088473e+09,\n",
       "       -8.52073429e+09, -1.51040760e+10,  3.10531976e+09, -6.60437654e+09,\n",
       "        9.19642484e+09])\n",
       "               jac: [array([[ 0.,  0.,  0., -0.,  1.,  0.,  0., -0., -0., -0.,  0., -0.,  0.]]), array([[ 0.,  0.,  0., -0.,  0.,  1.,  0., -0., -0., -0.,  0., -0.,  0.]]), array([[ 0.,  0.,  0., -0.,  0.,  0.,  1., -0., -0., -0.,  0., -0.,  0.]]), array([[ 0.,  0.,  0., -0.,  0.,  1.,  0., -0.,  1., -0.,  0., -0.,  0.]]), array([[ 0.,  0.,  0., -0.,  0.,  0.,  1., -0., -0.,  1.,  0., -0.,  0.]]), array([[ 0. ,  0. ,  0. , -0. ,  0. , -1. , -1. , -0. , -0.5, -0.5,  0. ,\n",
       "        -0. ,  0. ]]), array([[ 0.,  0.,  0., -0., -1.,  0.,  0., -0., -0., -0.,  0., -0.,  0.]]), array([[ 0.,  0.,  0., -0.,  0.,  0., -1., -0., -0., -0.,  0., -0.,  0.]]), array([[ 0.,  0.,  0., -0.,  0., -1., -1., -0., -0., -0.,  0., -0.,  0.]]), array([[ 0.,  0.,  0., -0.,  0.,  0.,  0., -0., -0., -0.,  0., -1.,  1.]]), array([[1., 0., 0., 0., 0., 0., 0., 0., 0., 0., 0., 0., 0.],\n",
       "       [0., 1., 0., 0., 0., 0., 0., 0., 0., 0., 0., 0., 0.],\n",
       "       [0., 0., 1., 0., 0., 0., 0., 0., 0., 0., 0., 0., 0.],\n",
       "       [0., 0., 0., 1., 0., 0., 0., 0., 0., 0., 0., 0., 0.],\n",
       "       [0., 0., 0., 0., 1., 0., 0., 0., 0., 0., 0., 0., 0.],\n",
       "       [0., 0., 0., 0., 0., 1., 0., 0., 0., 0., 0., 0., 0.],\n",
       "       [0., 0., 0., 0., 0., 0., 1., 0., 0., 0., 0., 0., 0.],\n",
       "       [0., 0., 0., 0., 0., 0., 0., 1., 0., 0., 0., 0., 0.],\n",
       "       [0., 0., 0., 0., 0., 0., 0., 0., 1., 0., 0., 0., 0.],\n",
       "       [0., 0., 0., 0., 0., 0., 0., 0., 0., 1., 0., 0., 0.],\n",
       "       [0., 0., 0., 0., 0., 0., 0., 0., 0., 0., 1., 0., 0.],\n",
       "       [0., 0., 0., 0., 0., 0., 0., 0., 0., 0., 0., 1., 0.],\n",
       "       [0., 0., 0., 0., 0., 0., 0., 0., 0., 0., 0., 0., 1.]])]\n",
       "   lagrangian_grad: array([ 1.05753258e+09,  2.21976182e+09,  8.25028271e+08, -4.51116223e+09,\n",
       "        3.17662497e+08,  2.85474310e+08,  7.12040303e+08, -1.54879849e+09,\n",
       "       -7.77639693e+08, -1.49194377e+09,  5.60974764e+08, -4.46942974e+08,\n",
       "        1.14642108e+09])\n",
       "           message: '`xtol` termination condition is satisfied.'\n",
       "            method: 'tr_interior_point'\n",
       "              nfev: 5992\n",
       "              nhev: 0\n",
       "               nit: 288\n",
       "             niter: 288\n",
       "              njev: 428\n",
       "        optimality: 4511162234.593975\n",
       "            status: 2\n",
       "           success: True\n",
       "         tr_radius: 4.212841697342162e-09\n",
       "                 v: [array([-7.59798667e+09]), array([-2.58137138e+09]), array([-2.68948403e+09]), array([4.83380246e+09]), array([8.29409335e+09]), array([-1.97580953e+09]), array([12157821.82014978]), array([3.02130675e+09]), array([1.55949951e+10]), array([-4.42459016e+09]), array([-3.37596478e+09, -5.93504388e+09, -2.03723260e+09,  1.27836196e+10,\n",
       "       -9.17063399e+08, -1.07448387e+09, -5.14813857e+09,  4.38208623e+09,\n",
       "        1.92138737e+09,  4.33013411e+09, -2.54434499e+09,  1.73284340e+09,\n",
       "       -3.62541360e+09])]\n",
       "                 x: array([ 2.61213803e-01,  1.46268625e-01,  4.08260791e-03, -1.92053336e-01,\n",
       "        2.04471932e-01,  3.32551006e-01,  5.14538410e-01, -1.90969216e-01,\n",
       "       -1.34625612e-02, -2.07893358e-01,  4.52987703e+00, -3.43630713e-01,\n",
       "        2.56465630e-01])"
      ]
     },
     "execution_count": 12,
     "metadata": {},
     "output_type": "execute_result"
    }
   ],
   "source": [
    "#MLE\n",
    "tmp = 1e-9*4\n",
    "initial = np.array([0.1068, 0.3838, 0.0940, -0.2366, 0.1649, 0.2062, 0.6622, -0.1045, -0.0981, -0.1827, 4.9262, -0.3516, 0.3068]) \n",
    "b1 = ((pair1_df_train.iloc[0:30,0] - pair1_df_train.iloc[0:30,1]).std())**2*10000\n",
    "b2 = 1\n",
    "b3 = 1.1\n",
    "constraints = ( {'type':'ineq','fun':lambda x: x[4]+tmp},\n",
    "                {'type':'ineq','fun':lambda x: x[5]+tmp},\n",
    "                {'type':'ineq','fun':lambda x: x[6]+tmp},\n",
    "                {'type':'ineq','fun':lambda x: x[5]+x[8]+tmp},\n",
    "                {'type':'ineq','fun':lambda x: x[6]+x[9]+tmp},\n",
    "                {'type':'ineq','fun':lambda x:-x[5]-0.5*x[8]-x[6]-0.5*x[9]+1+tmp},\n",
    "                {'type':'ineq','fun':lambda x:-x[4]+b1+tmp},     #b1\n",
    "                {'type':'ineq','fun':lambda x:-x[6]+b2+tmp},     #b2 = 1\n",
    "                {'type':'ineq','fun':lambda x:-x[5]-x[6]+b3+tmp},#b3 = 1.1\n",
    "                {'type':'ineq','fun':lambda x: x[12]-x[11]+tmp} \n",
    "                  )\n",
    "bound = (-0.9,0.9)\n",
    "# bounds = tuple(bound for asset in range(len(initial)))\n",
    "bounds = ((-0.9, 0.9),\n",
    " (-0.9, 0.9),\n",
    " (-0.9, 0.9),\n",
    " (-0.9, 0.9),\n",
    " (-0.9, 0.9),\n",
    " (-0.9, 0.9),\n",
    " (-0.9, 0.9),\n",
    " (-0.9, 0.9),\n",
    " (-0.9, 0.9),\n",
    " (-0.9, 0.9),\n",
    " (-5, 5),\n",
    " (-0.9, 0.9),\n",
    " (-0.9, 0.9))\n",
    "minimum = opt.minimize(fun_MLE, initial, constraints = constraints, method = 'trust-constr', bounds = bounds) #bounds: 0.9\n",
    "minimum"
   ]
  },
  {
   "cell_type": "code",
   "execution_count": 13,
   "metadata": {},
   "outputs": [
    {
     "data": {
      "text/plain": [
       "array([ 2.61213803e-01,  1.46268625e-01,  4.08260791e-03, -1.92053336e-01,\n",
       "        2.04471932e-01,  3.32551006e-01,  5.14538410e-01, -1.90969216e-01,\n",
       "       -1.34625612e-02, -2.07893358e-01,  4.52987703e+00, -3.43630713e-01,\n",
       "        2.56465630e-01])"
      ]
     },
     "execution_count": 13,
     "metadata": {},
     "output_type": "execute_result"
    }
   ],
   "source": [
    "minimum.x"
   ]
  },
  {
   "cell_type": "code",
   "execution_count": 14,
   "metadata": {},
   "outputs": [],
   "source": [
    "np.savetxt(str(target_df.index[5].split(\",\")[0])+'_'+str(target_df.index[5].split(\",\")[1])+'.txt', minimum.x, delimiter=',' )"
   ]
  },
  {
   "cell_type": "markdown",
   "metadata": {},
   "source": [
    "# DIS, TRV"
   ]
  },
  {
   "cell_type": "code",
   "execution_count": 15,
   "metadata": {},
   "outputs": [
    {
     "data": {
      "text/plain": [
       "array([ 2.61213803e-01,  1.46268625e-01,  4.08260791e-03, -1.92053336e-01,\n",
       "        2.04471932e-01,  3.32551006e-01,  5.14538410e-01, -1.90969216e-01,\n",
       "       -1.34625612e-02, -2.07893358e-01,  4.52987703e+00, -3.43630713e-01,\n",
       "        2.56465630e-01])"
      ]
     },
     "execution_count": 15,
     "metadata": {},
     "output_type": "execute_result"
    }
   ],
   "source": [
    "minimum.x"
   ]
  },
  {
   "cell_type": "markdown",
   "metadata": {},
   "source": [
    "# Trade"
   ]
  },
  {
   "cell_type": "code",
   "execution_count": 16,
   "metadata": {},
   "outputs": [],
   "source": [
    "df_return = db.pct_change()"
   ]
  },
  {
   "cell_type": "code",
   "execution_count": 17,
   "metadata": {},
   "outputs": [],
   "source": [
    "global results"
   ]
  },
  {
   "cell_type": "code",
   "execution_count": 18,
   "metadata": {},
   "outputs": [],
   "source": [
    "results = {'signals':[],\n",
    "           'returns':[],\n",
    "           'A_SoldPrices':[],\n",
    "           'A_BoughtPrices':[],\n",
    "           'B_SoldPrices':[],\n",
    "           'B_BoughtPrices':[]\n",
    "           }"
   ]
  },
  {
   "cell_type": "code",
   "execution_count": 19,
   "metadata": {},
   "outputs": [],
   "source": [
    "# Input1 : Real return spread\n",
    "# Input2 : Estimated return spread\n",
    "# Output : Gain, Trading Signal\n",
    "\n",
    "y1 = df_return.iloc[-1,0] \n",
    "y2 = df_return.iloc[-1,1]\n",
    "p1 = db.iloc[-1:,0] #A Price\n",
    "p2 = db.iloc[-1,1] #B Price\n",
    "\n",
    "#First trade\n",
    "i = 0\n",
    "\n",
    "#signal\n",
    "tmp0 = 0\n",
    "tmp1 = 1\n",
    "tmp2 = -1\n",
    "\n",
    "#First trade\n",
    "if i == 0:\n",
    "    if (y1 > y2):\n",
    "        signal = tmp1\n",
    "        results['A_SoldPrices'].append(p1)\n",
    "        results['B_BoughtPrices'].append(p2)\n",
    "        i = 1\n",
    "        tmp = 0\n",
    "    \n",
    "    elif (y1 < y2):  \n",
    "        signal = tmp2\n",
    "        results['A_BoughtPrices'].append(p1)\n",
    "        results['B_SoldPrices'].append(p2) \n",
    "        i = 1\n",
    "        tmp = 0\n",
    "    else:\n",
    "        signal = tmp0\n",
    "        i = 0\n",
    "        tmp = 1\n",
    "\n",
    "elif i == 1:\n",
    "    # After first trade\n",
    "    if (y1 > y2) & (results['signals'][-1] == tmp1) :\n",
    "        signal = tmp1\n",
    "        results['A_SoldPrices'].append(y1)\n",
    "        results['B_BoughtPrices'].append(y2)\n",
    "        tmp = -np.log(results['A_SoldPrices'][-1]/results['A_BoughtPrices'][-1])+np.log(results['B_SoldPrices'][-1]/results['B_BoughtPrices'][-1])\n",
    "  \n",
    "    elif (y1 <y2) & (results['signals'][-1] == tmp2):  \n",
    "        signal = tmp2\n",
    "        results['A_BoughtPrices'].append(y1)\n",
    "        results['B_SoldPrices'].append(y2)\n",
    "        tmp = np.log(results['A_SoldPrices'][-1]/results['A_BoughtPrices'][-1])-np.log(results['B_SoldPrices'][-1]/results['B_BoughtPrices'][-1]) \n",
    "\n",
    "    else:\n",
    "        signal = tmp0\n",
    "        tmp = 0\n",
    "\n",
    "\n",
    "results['signals'].append(signal)\n",
    "results['returns'].append(tmp)"
   ]
  }
 ],
 "metadata": {
  "kernelspec": {
   "display_name": "Python 3 (ipykernel)",
   "language": "python",
   "name": "python3"
  },
  "language_info": {
   "codemirror_mode": {
    "name": "ipython",
    "version": 3
   },
   "file_extension": ".py",
   "mimetype": "text/x-python",
   "name": "python",
   "nbconvert_exporter": "python",
   "pygments_lexer": "ipython3",
   "version": "3.7.15"
  },
  "varInspector": {
   "cols": {
    "lenName": 16,
    "lenType": 16,
    "lenVar": "100"
   },
   "kernels_config": {
    "python": {
     "delete_cmd_postfix": "",
     "delete_cmd_prefix": "del ",
     "library": "var_list.py",
     "varRefreshCmd": "print(var_dic_list())"
    },
    "r": {
     "delete_cmd_postfix": ") ",
     "delete_cmd_prefix": "rm(",
     "library": "var_list.r",
     "varRefreshCmd": "cat(var_dic_list()) "
    }
   },
   "oldHeight": 122.852,
   "position": {
    "height": "40px",
    "left": "1170px",
    "right": "20px",
    "top": "120px",
    "width": "250px"
   },
   "types_to_exclude": [
    "module",
    "function",
    "builtin_function_or_method",
    "instance",
    "_Feature"
   ],
   "varInspector_section_display": "none",
   "window_display": true
  },
  "vscode": {
   "interpreter": {
    "hash": "d8341897ff419221d780f9a95c4fa7d04e3c455196529406791fce95faaad134"
   }
  }
 },
 "nbformat": 4,
 "nbformat_minor": 2
}
