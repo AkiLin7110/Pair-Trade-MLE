{
 "cells": [
  {
   "cell_type": "code",
   "execution_count": 1,
   "metadata": {
    "ExecuteTime": {
     "end_time": "2023-01-05T15:44:22.678123Z",
     "start_time": "2023-01-05T15:44:22.673698Z"
    }
   },
   "outputs": [],
   "source": [
    "import pandas as pd\n",
    "import numpy as np\n",
    "\n",
    "import math\n",
    "import scipy.optimize as opt\n",
    "import random\n",
    "random.seed(108)\n"
   ]
  },
  {
   "cell_type": "code",
   "execution_count": 2,
   "metadata": {
    "ExecuteTime": {
     "end_time": "2023-01-05T15:44:29.097329Z",
     "start_time": "2023-01-05T15:44:23.247376Z"
    }
   },
   "outputs": [],
   "source": [
    "# Data: Close\n",
    "db = pd.read_excel('Data.xlsx', index_col = \"Date\")"
   ]
  },
  {
   "cell_type": "markdown",
   "metadata": {},
   "source": [
    "# MSD"
   ]
  },
  {
   "cell_type": "code",
   "execution_count": 3,
   "metadata": {
    "ExecuteTime": {
     "end_time": "2023-01-05T15:44:33.068514Z",
     "start_time": "2023-01-05T15:44:33.028412Z"
    }
   },
   "outputs": [],
   "source": [
    "db.index = pd.to_datetime(db.index)\n",
    "MSD_df = db['2006':'2013']\n",
    "MSD_df = (MSD_df-MSD_df.mean())/MSD_df.std() #change rolling\n",
    "MSD_df = MSD_df.dropna(axis = 1) #drop nan"
   ]
  },
  {
   "cell_type": "code",
   "execution_count": 4,
   "metadata": {
    "ExecuteTime": {
     "end_time": "2023-01-05T15:44:34.016177Z",
     "start_time": "2023-01-05T15:44:33.801218Z"
    }
   },
   "outputs": [],
   "source": [
    "target = {}\n",
    "for i in range(0,len(MSD_df.columns)-1):\n",
    "    for j in range(i+1,len(MSD_df.columns)):\n",
    "        tmp = ((MSD_df.iloc[:,i] - MSD_df.iloc[:,j])**2).sum()\n",
    "        target[str(MSD_df.columns[i])+','+str(MSD_df.columns[j])] = tmp"
   ]
  },
  {
   "cell_type": "code",
   "execution_count": 5,
   "metadata": {
    "ExecuteTime": {
     "end_time": "2023-01-05T15:44:34.739775Z",
     "start_time": "2023-01-05T15:44:34.723618Z"
    }
   },
   "outputs": [
    {
     "data": {
      "text/html": [
       "<div>\n",
       "<style scoped>\n",
       "    .dataframe tbody tr th:only-of-type {\n",
       "        vertical-align: middle;\n",
       "    }\n",
       "\n",
       "    .dataframe tbody tr th {\n",
       "        vertical-align: top;\n",
       "    }\n",
       "\n",
       "    .dataframe thead th {\n",
       "        text-align: right;\n",
       "    }\n",
       "</style>\n",
       "<table border=\"1\" class=\"dataframe\">\n",
       "  <thead>\n",
       "    <tr style=\"text-align: right;\">\n",
       "      <th></th>\n",
       "      <th>0</th>\n",
       "    </tr>\n",
       "  </thead>\n",
       "  <tbody>\n",
       "    <tr>\n",
       "      <th>DIS,TRV</th>\n",
       "      <td>106.019533</td>\n",
       "    </tr>\n",
       "    <tr>\n",
       "      <th>IBM,MCD</th>\n",
       "      <td>174.553811</td>\n",
       "    </tr>\n",
       "    <tr>\n",
       "      <th>AAPL,IBM</th>\n",
       "      <td>183.653680</td>\n",
       "    </tr>\n",
       "    <tr>\n",
       "      <th>CVX,KO</th>\n",
       "      <td>205.031258</td>\n",
       "    </tr>\n",
       "    <tr>\n",
       "      <th>IBM,KO</th>\n",
       "      <td>225.295065</td>\n",
       "    </tr>\n",
       "    <tr>\n",
       "      <th>DIS,HD</th>\n",
       "      <td>264.348677</td>\n",
       "    </tr>\n",
       "    <tr>\n",
       "      <th>HD,TRV</th>\n",
       "      <td>282.786437</td>\n",
       "    </tr>\n",
       "    <tr>\n",
       "      <th>PEP,PG</th>\n",
       "      <td>298.596370</td>\n",
       "    </tr>\n",
       "    <tr>\n",
       "      <th>DIS,MMM</th>\n",
       "      <td>300.548727</td>\n",
       "    </tr>\n",
       "    <tr>\n",
       "      <th>GOOGL,TRV</th>\n",
       "      <td>304.718140</td>\n",
       "    </tr>\n",
       "  </tbody>\n",
       "</table>\n",
       "</div>"
      ],
      "text/plain": [
       "                    0\n",
       "DIS,TRV    106.019533\n",
       "IBM,MCD    174.553811\n",
       "AAPL,IBM   183.653680\n",
       "CVX,KO     205.031258\n",
       "IBM,KO     225.295065\n",
       "DIS,HD     264.348677\n",
       "HD,TRV     282.786437\n",
       "PEP,PG     298.596370\n",
       "DIS,MMM    300.548727\n",
       "GOOGL,TRV  304.718140"
      ]
     },
     "execution_count": 5,
     "metadata": {},
     "output_type": "execute_result"
    }
   ],
   "source": [
    "target_df = pd.DataFrame.from_dict(target, orient='index')\n",
    "target_df = target_df.sort_values(by = 0)[0:10]\n",
    "target_df"
   ]
  },
  {
   "cell_type": "code",
   "execution_count": 6,
   "metadata": {},
   "outputs": [
    {
     "data": {
      "text/html": [
       "<div>\n",
       "<style scoped>\n",
       "    .dataframe tbody tr th:only-of-type {\n",
       "        vertical-align: middle;\n",
       "    }\n",
       "\n",
       "    .dataframe tbody tr th {\n",
       "        vertical-align: top;\n",
       "    }\n",
       "\n",
       "    .dataframe thead th {\n",
       "        text-align: right;\n",
       "    }\n",
       "</style>\n",
       "<table border=\"1\" class=\"dataframe\">\n",
       "  <thead>\n",
       "    <tr style=\"text-align: right;\">\n",
       "      <th></th>\n",
       "      <th>IBM</th>\n",
       "      <th>MCD</th>\n",
       "    </tr>\n",
       "    <tr>\n",
       "      <th>Date</th>\n",
       "      <th></th>\n",
       "      <th></th>\n",
       "    </tr>\n",
       "  </thead>\n",
       "  <tbody>\n",
       "    <tr>\n",
       "      <th>2006-01-04</th>\n",
       "      <td>-0.001340</td>\n",
       "      <td>0.008950</td>\n",
       "    </tr>\n",
       "    <tr>\n",
       "      <th>2006-01-05</th>\n",
       "      <td>0.006711</td>\n",
       "      <td>0.001183</td>\n",
       "    </tr>\n",
       "    <tr>\n",
       "      <th>2006-01-06</th>\n",
       "      <td>0.029697</td>\n",
       "      <td>0.005907</td>\n",
       "    </tr>\n",
       "    <tr>\n",
       "      <th>2006-01-09</th>\n",
       "      <td>-0.014361</td>\n",
       "      <td>0.019084</td>\n",
       "    </tr>\n",
       "    <tr>\n",
       "      <th>2006-01-10</th>\n",
       "      <td>0.004061</td>\n",
       "      <td>0.000864</td>\n",
       "    </tr>\n",
       "    <tr>\n",
       "      <th>...</th>\n",
       "      <td>...</td>\n",
       "      <td>...</td>\n",
       "    </tr>\n",
       "    <tr>\n",
       "      <th>2013-12-24</th>\n",
       "      <td>0.005433</td>\n",
       "      <td>0.002492</td>\n",
       "    </tr>\n",
       "    <tr>\n",
       "      <th>2013-12-26</th>\n",
       "      <td>0.011625</td>\n",
       "      <td>0.003107</td>\n",
       "    </tr>\n",
       "    <tr>\n",
       "      <th>2013-12-27</th>\n",
       "      <td>-0.001457</td>\n",
       "      <td>0.000723</td>\n",
       "    </tr>\n",
       "    <tr>\n",
       "      <th>2013-12-30</th>\n",
       "      <td>0.007186</td>\n",
       "      <td>0.001032</td>\n",
       "    </tr>\n",
       "    <tr>\n",
       "      <th>2013-12-31</th>\n",
       "      <td>0.006223</td>\n",
       "      <td>0.000206</td>\n",
       "    </tr>\n",
       "  </tbody>\n",
       "</table>\n",
       "<p>2012 rows × 2 columns</p>\n",
       "</div>"
      ],
      "text/plain": [
       "                 IBM       MCD\n",
       "Date                          \n",
       "2006-01-04 -0.001340  0.008950\n",
       "2006-01-05  0.006711  0.001183\n",
       "2006-01-06  0.029697  0.005907\n",
       "2006-01-09 -0.014361  0.019084\n",
       "2006-01-10  0.004061  0.000864\n",
       "...              ...       ...\n",
       "2013-12-24  0.005433  0.002492\n",
       "2013-12-26  0.011625  0.003107\n",
       "2013-12-27 -0.001457  0.000723\n",
       "2013-12-30  0.007186  0.001032\n",
       "2013-12-31  0.006223  0.000206\n",
       "\n",
       "[2012 rows x 2 columns]"
      ]
     },
     "execution_count": 6,
     "metadata": {},
     "output_type": "execute_result"
    }
   ],
   "source": [
    "pair1_df_train = db.loc[\"2006\":\"2013\",target_df.index[1].split(\",\")].pct_change(1).dropna()\n",
    "pair1_df_test = db.loc[\"2014\":\"2014\",target_df.index[1].split(\",\")].pct_change(1).dropna()\n",
    "pair1_df_train"
   ]
  },
  {
   "cell_type": "code",
   "execution_count": 7,
   "metadata": {},
   "outputs": [],
   "source": [
    "# ytlist = pair1_df_train.iloc[:,0] - pair1_df_train.iloc[:,1]"
   ]
  },
  {
   "cell_type": "code",
   "execution_count": 8,
   "metadata": {
    "ExecuteTime": {
     "end_time": "2023-01-05T15:44:44.714940Z",
     "start_time": "2023-01-05T15:44:44.709144Z"
    }
   },
   "outputs": [],
   "source": [
    "from scipy.stats import t\n",
    "\n",
    "# ytlist = [] #用來收集過去的yt們，算z_td、s_z時會用到\n",
    "\n",
    "# #Table1 參數\n",
    "# fi_1_0 = 0.1046\n",
    "# fi_1_1 = 0.3886\n",
    "# fi_2_0 = 0.0961\n",
    "# fi_2_1 = -0.2403\n",
    "# alpha_1_0 = 0.1639\n",
    "# alpha_1_1 = 0.2132\n",
    "# beta_1_1 = 0.6631\n",
    "# alpha_2_0 = -0.1035\n",
    "# alpha_2_1 = -0.1063\n",
    "# beta_2_1 = -0.1751\n",
    "# v = 7\n",
    "# gamma = 5.5563\n",
    "# c_1 = -0.3569\n",
    "# c_2 = 0.3136\n",
    "# d = 1\n",
    "# z_td = yt[len(yt)-d:-1] #t-d\n",
    "# s_z = std(z_td)\n",
    "\n",
    "# Fdis = (1+np.exp(-gamma*(z_td - c_1)(z_td - c_2))/s_z)**(-1)\n",
    "# h_1_t = alpha_1_0 + alpha_1_1*a_t1**2 + beta_1_1*h_t1\n",
    "# h_2_t = alpha_2_0 + alpha_2_1*a_t1**2 + beta_2_1*h_t1\n",
    "# miu_1 = fi_1_0 + fi_1_1*y_t1\n",
    "# miu_2 = fi_2_0 + fi_2_1*y_t1\n",
    "# h_t = h_1_t + Fdis*h_2_t\n",
    "# epsilon = t.rvs(v, size=1) #t-distribution\n",
    "# a_t = h_t**0.5*epsilon #error term\n",
    "# y_t = miu_1 + Fdis*miu_2 + a_t #ST-GARCH\n"
   ]
  },
  {
   "cell_type": "code",
   "execution_count": 9,
   "metadata": {
    "ExecuteTime": {
     "end_time": "2023-01-05T16:00:06.319689Z",
     "start_time": "2023-01-05T16:00:06.304841Z"
    },
    "scrolled": true
   },
   "outputs": [
    {
     "data": {
      "text/plain": [
       "Date\n",
       "2006-01-04   -0.010290\n",
       "2006-01-05    0.005529\n",
       "2006-01-06    0.023790\n",
       "2006-01-09   -0.033445\n",
       "2006-01-10    0.003196\n",
       "2006-01-11   -0.016082\n",
       "2006-01-12    0.008435\n",
       "2006-01-13    0.004412\n",
       "2006-01-17   -0.005525\n",
       "2006-01-18   -0.001926\n",
       "2006-01-19   -0.014474\n",
       "2006-01-20   -0.039571\n",
       "2006-01-23    0.004797\n",
       "2006-01-24   -0.010799\n",
       "2006-01-25    0.019989\n",
       "2006-01-26    0.003909\n",
       "2006-01-27    0.000568\n",
       "2006-01-30    0.008385\n",
       "2006-01-31   -0.003757\n",
       "2006-02-01   -0.010980\n",
       "2006-02-02   -0.002497\n",
       "2006-02-03   -0.030180\n",
       "2006-02-06   -0.010200\n",
       "2006-02-07    0.002616\n",
       "2006-02-08    0.007200\n",
       "2006-02-09   -0.003300\n",
       "2006-02-10    0.010741\n",
       "2006-02-13   -0.011769\n",
       "2006-02-14    0.007806\n",
       "2006-02-15    0.006939\n",
       "dtype: float64"
      ]
     },
     "execution_count": 9,
     "metadata": {},
     "output_type": "execute_result"
    }
   ],
   "source": [
    "z_td = pair1_df_train.iloc[0:30,0]-pair1_df_train.iloc[0:30,1]\n",
    "z_td"
   ]
  },
  {
   "cell_type": "code",
   "execution_count": 10,
   "metadata": {
    "ExecuteTime": {
     "end_time": "2023-01-05T16:00:07.030191Z",
     "start_time": "2023-01-05T16:00:07.011276Z"
    }
   },
   "outputs": [],
   "source": [
    "# fi_1_0, fi_1_1, fi_2_0, fi_2_1, alpha_1_0, alpha_1_1, beta_1_1, alpha_2_0, alpha_2_1, beta_2_1, v, gamma, c_1, c_2 = np.array([0.1046, 0.3886, 0.0961, -0.2403, 0.1639, 0.2132, 0.6631, -0.1035, -0.1063, -0.1751, 7.1122, 5.5563, -0.3569, 0.3136])\n",
    "# tmp = 30\n",
    "# z_td = pair1_df_train.iloc[0:tmp,0] - pair1_df_train.iloc[0:tmp,1]\n",
    "# s_z = z_td.std()   \n",
    "# Fdis = (1+np.exp(-gamma*(z_td - c_1)*(z_td - c_2)/s_z))**(-1)\n",
    "# Fdis"
   ]
  },
  {
   "cell_type": "code",
   "execution_count": 11,
   "metadata": {
    "ExecuteTime": {
     "end_time": "2023-01-05T16:00:22.405515Z",
     "start_time": "2023-01-05T16:00:22.381441Z"
    }
   },
   "outputs": [],
   "source": [
    "def fun_MLE(x):\n",
    "    fi_1_0, fi_1_1, fi_2_0, fi_2_1, alpha_1_0, alpha_1_1, beta_1_1, alpha_2_0, alpha_2_1, beta_2_1, gamma, c_1, c_2= x\n",
    "    # Define h_t1\n",
    "    tmp = 30\n",
    "    target = 0\n",
    "    z_td = pair1_df_train.iloc[0:tmp,0]-pair1_df_train.iloc[0:tmp,1]\n",
    "    z_td = z_td.to_numpy()\n",
    "    s_z = z_td.std()\n",
    "    Fdis = (1+np.exp(-gamma*(z_td[-1] - c_1)*(z_td[-1] - c_2)/s_z))**(-1)\n",
    "    h_1_t = pair1_df_train.iloc[0:tmp,0].std()\n",
    "    h_2_t = pair1_df_train.iloc[0:tmp,1].std()\n",
    "    h_t1 = h_1_t + Fdis*h_2_t\n",
    "    epsilon = random.gauss(mu = 0, sigma = 1)\n",
    "    a_t1 = h_t1**0.5*epsilon #error term\n",
    "\n",
    "\n",
    "    y_t1 = pair1_df_train.iloc[tmp-1,0] - pair1_df_train.iloc[tmp-1,1]\n",
    "    # Define sigma, real_y_t, y_t\n",
    "    for i in range(tmp,len(pair1_df_train)):\n",
    "        z_td = pair1_df_train.iloc[0:i,0]-pair1_df_train.iloc[0:i,1]\n",
    "        z_td = z_td.to_numpy()\n",
    "        s_z = z_td.std()\n",
    "        real_y_t = pair1_df_train.iloc[i,0] - pair1_df_train.iloc[i,1]\n",
    "        # real_y_t = real_y_t.to_numpy()\n",
    "        h_1_t = alpha_1_0 + alpha_1_1*a_t1**2 + beta_1_1*h_t1\n",
    "        h_2_t = alpha_2_0 + alpha_2_1*a_t1**2 + beta_2_1*h_t1\n",
    "        miu_1 = fi_1_0 + fi_1_1*y_t1\n",
    "        miu_2 = fi_2_0 + fi_2_1*y_t1\n",
    "        h_t = h_1_t + Fdis*h_2_t\n",
    "        epsilon = random.gauss(mu = 0, sigma = 1)\n",
    "        a_t = h_t**0.5*epsilon #error term\n",
    "        y_t = miu_1 + Fdis*miu_2 + a_t #ST-GARCH\n",
    "\n",
    "        h_t1 = h_t\n",
    "        a_t1 = a_t\n",
    "        y_t1 = real_y_t\n",
    "\n",
    "        sigma = h_t\n",
    "        target += np.log((2*np.pi*sigma**2)**(-0.5)*np.exp(-(real_y_t-y_t)**2/(2*sigma**2))) #MLE\n",
    "        # print(target)\n",
    "    target = -target\n",
    "    \n",
    "    return target"
   ]
  },
  {
   "cell_type": "code",
   "execution_count": 12,
   "metadata": {
    "ExecuteTime": {
     "start_time": "2023-01-05T16:00:23.829Z"
    }
   },
   "outputs": [
    {
     "name": "stderr",
     "output_type": "stream",
     "text": [
      "/home/akilin/anaconda3/envs/gamma/lib/python3.7/site-packages/scipy/optimize/_hessian_update_strategy.py:186: UserWarning: delta_grad == 0.0. Check if the approximated function is linear. If the function is linear better results can be obtained by defining the Hessian as zero instead of using quasi-Newton approximations.\n",
      "  'approximations.', UserWarning)\n"
     ]
    },
    {
     "data": {
      "text/plain": [
       " barrier_parameter: 2.048000000000001e-09\n",
       " barrier_tolerance: 2.048000000000001e-09\n",
       "          cg_niter: 1985\n",
       "      cg_stop_cond: 2\n",
       "            constr: [array([0.35547014]), array([0.06975327]), array([0.36181353]), array([0.40395467]), array([0.24222671]), array([0.46112592]), array([1.69767655]), array([0.63818647]), array([0.66843321]), array([0.77812378]), array([-0.18365375,  0.29991262,  0.08903568, -0.38796593,  0.35547014,\n",
       "        0.06975327,  0.36181353,  0.25890811,  0.3342014 , -0.11958682,\n",
       "        4.46605713, -0.33643076,  0.44169301])]\n",
       "       constr_nfev: [6552, 6552, 6552, 6552, 6552, 6552, 6552, 6552, 6552, 6552, 0]\n",
       "       constr_nhev: [0, 0, 0, 0, 0, 0, 0, 0, 0, 0, 0]\n",
       "       constr_njev: [0, 0, 0, 0, 0, 0, 0, 0, 0, 0, 0]\n",
       "    constr_penalty: 1.0\n",
       "  constr_violation: 0.0\n",
       "    execution_time: 2865.2162334918976\n",
       "               fun: 2473.701933459208\n",
       "              grad: array([-1.83855603e+09,  5.25685949e+09,  2.05015779e+08, -4.45901069e+09,\n",
       "        1.00164169e+10,  4.78030908e+09,  1.01939285e+10,  9.60095260e+09,\n",
       "        4.70380519e+09, -1.06935269e+10,  1.41029584e+09, -5.83382324e+09,\n",
       "        8.00128895e+09])\n",
       "               jac: [array([[-0.,  0.,  0., -0.,  1.,  0.,  0.,  0.,  0., -0.,  0., -0.,  0.]]), array([[-0.,  0.,  0., -0.,  0.,  1.,  0.,  0.,  0., -0.,  0., -0.,  0.]]), array([[-0.,  0.,  0., -0.,  0.,  0.,  1.,  0.,  0., -0.,  0., -0.,  0.]]), array([[-0.,  0.,  0., -0.,  0.,  1.,  0.,  0.,  1., -0.,  0., -0.,  0.]]), array([[-0.,  0.,  0., -0.,  0.,  0.,  1.,  0.,  0.,  1.,  0., -0.,  0.]]), array([[-0. ,  0. ,  0. , -0. ,  0. , -1. , -1. ,  0. , -0.5, -0.5,  0. ,\n",
       "        -0. ,  0. ]]), array([[-0.,  0.,  0., -0., -1.,  0.,  0.,  0.,  0., -0.,  0., -0.,  0.]]), array([[-0.,  0.,  0., -0.,  0.,  0., -1.,  0.,  0., -0.,  0., -0.,  0.]]), array([[-0.,  0.,  0., -0.,  0., -1., -1.,  0.,  0., -0.,  0., -0.,  0.]]), array([[-0.,  0.,  0., -0.,  0.,  0.,  0.,  0.,  0., -0.,  0., -1.,  1.]]), array([[1., 0., 0., 0., 0., 0., 0., 0., 0., 0., 0., 0., 0.],\n",
       "       [0., 1., 0., 0., 0., 0., 0., 0., 0., 0., 0., 0., 0.],\n",
       "       [0., 0., 1., 0., 0., 0., 0., 0., 0., 0., 0., 0., 0.],\n",
       "       [0., 0., 0., 1., 0., 0., 0., 0., 0., 0., 0., 0., 0.],\n",
       "       [0., 0., 0., 0., 1., 0., 0., 0., 0., 0., 0., 0., 0.],\n",
       "       [0., 0., 0., 0., 0., 1., 0., 0., 0., 0., 0., 0., 0.],\n",
       "       [0., 0., 0., 0., 0., 0., 1., 0., 0., 0., 0., 0., 0.],\n",
       "       [0., 0., 0., 0., 0., 0., 0., 1., 0., 0., 0., 0., 0.],\n",
       "       [0., 0., 0., 0., 0., 0., 0., 0., 1., 0., 0., 0., 0.],\n",
       "       [0., 0., 0., 0., 0., 0., 0., 0., 0., 1., 0., 0., 0.],\n",
       "       [0., 0., 0., 0., 0., 0., 0., 0., 0., 0., 1., 0., 0.],\n",
       "       [0., 0., 0., 0., 0., 0., 0., 0., 0., 0., 0., 1., 0.],\n",
       "       [0., 0., 0., 0., 0., 0., 0., 0., 0., 0., 0., 0., 1.]])]\n",
       "   lagrangian_grad: array([-4.83791359e+08,  1.17563290e+09,  5.78678013e+07, -8.23149092e+08,\n",
       "        7.54936238e+08, -5.56649175e+06,  8.79038295e+08,  2.29816460e+09,\n",
       "        3.47557112e+08, -1.28936875e+09,  3.12097779e+08, -6.83148506e+08,\n",
       "        8.62578126e+08])\n",
       "           message: '`xtol` termination condition is satisfied.'\n",
       "            method: 'tr_interior_point'\n",
       "              nfev: 6552\n",
       "              nhev: 0\n",
       "               nit: 308\n",
       "             niter: 308\n",
       "              njev: 468\n",
       "        optimality: 2298164600.4866867\n",
       "            status: 2\n",
       "           success: True\n",
       "         tr_radius: 7.539350700990148e-09\n",
       "                 v: [array([-5.9745338e+09]), array([1.14406944e+09]), array([-6.71487884e+09]), array([-2.0957956e+09]), array([6.99342123e+09]), array([1.8932066e+09]), array([2.61939126e+08]), array([2.15830394e+09]), array([1.95493741e+09]), array([-2.5529089e+09]), array([ 1.35476467e+09, -4.08122659e+09, -1.47147977e+08,  3.63586159e+09,\n",
       "       -3.02500771e+09,  1.39946053e+07, -3.58698463e+09, -7.30278800e+09,\n",
       "       -1.31384918e+09,  3.35734020e+09, -1.09819806e+09,  2.59776584e+09,\n",
       "       -4.58580192e+09])]\n",
       "                 x: array([-0.18365375,  0.29991262,  0.08903568, -0.38796593,  0.35547014,\n",
       "        0.06975327,  0.36181353,  0.25890811,  0.3342014 , -0.11958682,\n",
       "        4.46605713, -0.33643076,  0.44169301])"
      ]
     },
     "execution_count": 12,
     "metadata": {},
     "output_type": "execute_result"
    }
   ],
   "source": [
    "#MLE\n",
    "tmp = 1e-9*4\n",
    "initial = np.array([0.1068, 0.3838, 0.0940, -0.2366, 0.1649, 0.2062, 0.6622, -0.1045, -0.0981, -0.1827, 4.9262, -0.3516, 0.3068]) \n",
    "b1 = ((pair1_df_train.iloc[0:30,0] - pair1_df_train.iloc[0:30,1]).std())**2*10000\n",
    "b2 = 1\n",
    "b3 = 1.1\n",
    "constraints = ( {'type':'ineq','fun':lambda x: x[4]+tmp},\n",
    "                {'type':'ineq','fun':lambda x: x[5]+tmp},\n",
    "                {'type':'ineq','fun':lambda x: x[6]+tmp},\n",
    "                {'type':'ineq','fun':lambda x: x[5]+x[8]+tmp},\n",
    "                {'type':'ineq','fun':lambda x: x[6]+x[9]+tmp},\n",
    "                {'type':'ineq','fun':lambda x:-x[5]-0.5*x[8]-x[6]-0.5*x[9]+1+tmp},\n",
    "                {'type':'ineq','fun':lambda x:-x[4]+b1+tmp},     #b1\n",
    "                {'type':'ineq','fun':lambda x:-x[6]+b2+tmp},     #b2 = 1\n",
    "                {'type':'ineq','fun':lambda x:-x[5]-x[6]+b3+tmp},#b3 = 1.1\n",
    "                {'type':'ineq','fun':lambda x: x[12]-x[11]+tmp} \n",
    "                  )\n",
    "bound = (-0.9,0.9)\n",
    "# bounds = tuple(bound for asset in range(len(initial)))\n",
    "bounds = ((-0.9, 0.9),\n",
    " (-0.9, 0.9),\n",
    " (-0.9, 0.9),\n",
    " (-0.9, 0.9),\n",
    " (-0.9, 0.9),\n",
    " (-0.9, 0.9),\n",
    " (-0.9, 0.9),\n",
    " (-0.9, 0.9),\n",
    " (-0.9, 0.9),\n",
    " (-0.9, 0.9),\n",
    " (-5, 5),\n",
    " (-0.9, 0.9),\n",
    " (-0.9, 0.9))\n",
    "minimum = opt.minimize(fun_MLE, initial, constraints = constraints, method = 'trust-constr', bounds = bounds) #bounds: 0.9\n",
    "minimum"
   ]
  },
  {
   "cell_type": "code",
   "execution_count": 13,
   "metadata": {},
   "outputs": [
    {
     "data": {
      "text/plain": [
       "array([-0.18365375,  0.29991262,  0.08903568, -0.38796593,  0.35547014,\n",
       "        0.06975327,  0.36181353,  0.25890811,  0.3342014 , -0.11958682,\n",
       "        4.46605713, -0.33643076,  0.44169301])"
      ]
     },
     "execution_count": 13,
     "metadata": {},
     "output_type": "execute_result"
    }
   ],
   "source": [
    "minimum.x"
   ]
  },
  {
   "cell_type": "markdown",
   "metadata": {},
   "source": [
    "# DIS, TRV"
   ]
  },
  {
   "cell_type": "code",
   "execution_count": 14,
   "metadata": {},
   "outputs": [
    {
     "data": {
      "text/plain": [
       "array([-0.18365375,  0.29991262,  0.08903568, -0.38796593,  0.35547014,\n",
       "        0.06975327,  0.36181353,  0.25890811,  0.3342014 , -0.11958682,\n",
       "        4.46605713, -0.33643076,  0.44169301])"
      ]
     },
     "execution_count": 14,
     "metadata": {},
     "output_type": "execute_result"
    }
   ],
   "source": [
    "minimum.x"
   ]
  },
  {
   "cell_type": "markdown",
   "metadata": {},
   "source": [
    "# Trade"
   ]
  },
  {
   "cell_type": "code",
   "execution_count": 15,
   "metadata": {},
   "outputs": [],
   "source": [
    "df_return = db.pct_change()"
   ]
  },
  {
   "cell_type": "code",
   "execution_count": 16,
   "metadata": {},
   "outputs": [],
   "source": [
    "global results"
   ]
  },
  {
   "cell_type": "code",
   "execution_count": 17,
   "metadata": {},
   "outputs": [],
   "source": [
    "results = {'signals':[],\n",
    "           'returns':[],\n",
    "           'A_SoldPrices':[],\n",
    "           'A_BoughtPrices':[],\n",
    "           'B_SoldPrices':[],\n",
    "           'B_BoughtPrices':[]\n",
    "           }"
   ]
  },
  {
   "cell_type": "code",
   "execution_count": 18,
   "metadata": {},
   "outputs": [],
   "source": [
    "# Input1 : Real return spread\n",
    "# Input2 : Estimated return spread\n",
    "# Output : Gain, Trading Signal\n",
    "\n",
    "y1 = df_return.iloc[-1,0] \n",
    "y2 = df_return.iloc[-1,1]\n",
    "p1 = db.iloc[-1:,0] #A Price\n",
    "p2 = db.iloc[-1,1] #B Price\n",
    "\n",
    "#First trade\n",
    "i = 0\n",
    "\n",
    "#signal\n",
    "tmp0 = 0\n",
    "tmp1 = 1\n",
    "tmp2 = -1\n",
    "\n",
    "#First trade\n",
    "if i == 0:\n",
    "    if (y1 > y2):\n",
    "        signal = tmp1\n",
    "        results['A_SoldPrices'].append(p1)\n",
    "        results['B_BoughtPrices'].append(p2)\n",
    "        i = 1\n",
    "        tmp = 0\n",
    "    \n",
    "    elif (y1 < y2):  \n",
    "        signal = tmp2\n",
    "        results['A_BoughtPrices'].append(p1)\n",
    "        results['B_SoldPrices'].append(p2) \n",
    "        i = 1\n",
    "        tmp = 0\n",
    "    else:\n",
    "        signal = tmp0\n",
    "        i = 0\n",
    "        tmp = 1\n",
    "\n",
    "elif i == 1:\n",
    "    # After first trade\n",
    "    if (y1 > y2) & (results['signals'][-1] == tmp1) :\n",
    "        signal = tmp1\n",
    "        results['A_SoldPrices'].append(y1)\n",
    "        results['B_BoughtPrices'].append(y2)\n",
    "        tmp = -np.log(results['A_SoldPrices'][-1]/results['A_BoughtPrices'][-1])+np.log(results['B_SoldPrices'][-1]/results['B_BoughtPrices'][-1])\n",
    "  \n",
    "    elif (y1 <y2) & (results['signals'][-1] == tmp2):  \n",
    "        signal = tmp2\n",
    "        results['A_BoughtPrices'].append(y1)\n",
    "        results['B_SoldPrices'].append(y2)\n",
    "        tmp = np.log(results['A_SoldPrices'][-1]/results['A_BoughtPrices'][-1])-np.log(results['B_SoldPrices'][-1]/results['B_BoughtPrices'][-1]) \n",
    "\n",
    "    else:\n",
    "        signal = tmp0\n",
    "        tmp = 0\n",
    "\n",
    "\n",
    "results['signals'].append(signal)\n",
    "results['returns'].append(tmp)"
   ]
  }
 ],
 "metadata": {
  "kernelspec": {
   "display_name": "Python 3 (ipykernel)",
   "language": "python",
   "name": "python3"
  },
  "language_info": {
   "codemirror_mode": {
    "name": "ipython",
    "version": 3
   },
   "file_extension": ".py",
   "mimetype": "text/x-python",
   "name": "python",
   "nbconvert_exporter": "python",
   "pygments_lexer": "ipython3",
   "version": "3.7.15"
  },
  "varInspector": {
   "cols": {
    "lenName": 16,
    "lenType": 16,
    "lenVar": "100"
   },
   "kernels_config": {
    "python": {
     "delete_cmd_postfix": "",
     "delete_cmd_prefix": "del ",
     "library": "var_list.py",
     "varRefreshCmd": "print(var_dic_list())"
    },
    "r": {
     "delete_cmd_postfix": ") ",
     "delete_cmd_prefix": "rm(",
     "library": "var_list.r",
     "varRefreshCmd": "cat(var_dic_list()) "
    }
   },
   "oldHeight": 122.852,
   "position": {
    "height": "40px",
    "left": "1170px",
    "right": "20px",
    "top": "120px",
    "width": "250px"
   },
   "types_to_exclude": [
    "module",
    "function",
    "builtin_function_or_method",
    "instance",
    "_Feature"
   ],
   "varInspector_section_display": "none",
   "window_display": true
  },
  "vscode": {
   "interpreter": {
    "hash": "d8341897ff419221d780f9a95c4fa7d04e3c455196529406791fce95faaad134"
   }
  }
 },
 "nbformat": 4,
 "nbformat_minor": 2
}
