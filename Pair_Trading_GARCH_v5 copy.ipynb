{
 "cells": [
  {
   "cell_type": "code",
   "execution_count": 1,
   "metadata": {
    "ExecuteTime": {
     "end_time": "2023-01-05T15:44:22.678123Z",
     "start_time": "2023-01-05T15:44:22.673698Z"
    }
   },
   "outputs": [],
   "source": [
    "import pandas as pd\n",
    "import numpy as np\n",
    "\n",
    "import math\n",
    "import scipy.optimize as opt\n",
    "import random\n",
    "random.seed(108)\n"
   ]
  },
  {
   "cell_type": "code",
   "execution_count": 2,
   "metadata": {
    "ExecuteTime": {
     "end_time": "2023-01-05T15:44:29.097329Z",
     "start_time": "2023-01-05T15:44:23.247376Z"
    }
   },
   "outputs": [],
   "source": [
    "# Data: Close\n",
    "db = pd.read_excel('Data.xlsx', index_col = \"Date\")"
   ]
  },
  {
   "cell_type": "markdown",
   "metadata": {},
   "source": [
    "# MSD"
   ]
  },
  {
   "cell_type": "code",
   "execution_count": 3,
   "metadata": {
    "ExecuteTime": {
     "end_time": "2023-01-05T15:44:33.068514Z",
     "start_time": "2023-01-05T15:44:33.028412Z"
    }
   },
   "outputs": [],
   "source": [
    "db.index = pd.to_datetime(db.index)\n",
    "MSD_df = db['2006':'2013']\n",
    "MSD_df = (MSD_df-MSD_df.mean())/MSD_df.std() #change rolling\n",
    "MSD_df = MSD_df.dropna(axis = 1) #drop nan"
   ]
  },
  {
   "cell_type": "code",
   "execution_count": 4,
   "metadata": {
    "ExecuteTime": {
     "end_time": "2023-01-05T15:44:34.016177Z",
     "start_time": "2023-01-05T15:44:33.801218Z"
    }
   },
   "outputs": [],
   "source": [
    "target = {}\n",
    "for i in range(0,len(MSD_df.columns)-1):\n",
    "    for j in range(i+1,len(MSD_df.columns)):\n",
    "        tmp = ((MSD_df.iloc[:,i] - MSD_df.iloc[:,j])**2).sum()\n",
    "        target[str(MSD_df.columns[i])+','+str(MSD_df.columns[j])] = tmp"
   ]
  },
  {
   "cell_type": "code",
   "execution_count": 5,
   "metadata": {
    "ExecuteTime": {
     "end_time": "2023-01-05T15:44:34.739775Z",
     "start_time": "2023-01-05T15:44:34.723618Z"
    }
   },
   "outputs": [
    {
     "data": {
      "text/html": [
       "<div>\n",
       "<style scoped>\n",
       "    .dataframe tbody tr th:only-of-type {\n",
       "        vertical-align: middle;\n",
       "    }\n",
       "\n",
       "    .dataframe tbody tr th {\n",
       "        vertical-align: top;\n",
       "    }\n",
       "\n",
       "    .dataframe thead th {\n",
       "        text-align: right;\n",
       "    }\n",
       "</style>\n",
       "<table border=\"1\" class=\"dataframe\">\n",
       "  <thead>\n",
       "    <tr style=\"text-align: right;\">\n",
       "      <th></th>\n",
       "      <th>0</th>\n",
       "    </tr>\n",
       "  </thead>\n",
       "  <tbody>\n",
       "    <tr>\n",
       "      <th>DIS,TRV</th>\n",
       "      <td>106.019533</td>\n",
       "    </tr>\n",
       "    <tr>\n",
       "      <th>IBM,MCD</th>\n",
       "      <td>174.553811</td>\n",
       "    </tr>\n",
       "    <tr>\n",
       "      <th>AAPL,IBM</th>\n",
       "      <td>183.653680</td>\n",
       "    </tr>\n",
       "    <tr>\n",
       "      <th>CVX,KO</th>\n",
       "      <td>205.031258</td>\n",
       "    </tr>\n",
       "    <tr>\n",
       "      <th>IBM,KO</th>\n",
       "      <td>225.295065</td>\n",
       "    </tr>\n",
       "    <tr>\n",
       "      <th>DIS,HD</th>\n",
       "      <td>264.348677</td>\n",
       "    </tr>\n",
       "    <tr>\n",
       "      <th>HD,TRV</th>\n",
       "      <td>282.786437</td>\n",
       "    </tr>\n",
       "    <tr>\n",
       "      <th>PEP,PG</th>\n",
       "      <td>298.596370</td>\n",
       "    </tr>\n",
       "    <tr>\n",
       "      <th>DIS,MMM</th>\n",
       "      <td>300.548727</td>\n",
       "    </tr>\n",
       "    <tr>\n",
       "      <th>GOOGL,TRV</th>\n",
       "      <td>304.718140</td>\n",
       "    </tr>\n",
       "  </tbody>\n",
       "</table>\n",
       "</div>"
      ],
      "text/plain": [
       "                    0\n",
       "DIS,TRV    106.019533\n",
       "IBM,MCD    174.553811\n",
       "AAPL,IBM   183.653680\n",
       "CVX,KO     205.031258\n",
       "IBM,KO     225.295065\n",
       "DIS,HD     264.348677\n",
       "HD,TRV     282.786437\n",
       "PEP,PG     298.596370\n",
       "DIS,MMM    300.548727\n",
       "GOOGL,TRV  304.718140"
      ]
     },
     "execution_count": 5,
     "metadata": {},
     "output_type": "execute_result"
    }
   ],
   "source": [
    "target_df = pd.DataFrame.from_dict(target, orient='index')\n",
    "target_df = target_df.sort_values(by = 0)[0:10]\n",
    "target_df"
   ]
  },
  {
   "cell_type": "code",
   "execution_count": 6,
   "metadata": {},
   "outputs": [
    {
     "data": {
      "text/html": [
       "<div>\n",
       "<style scoped>\n",
       "    .dataframe tbody tr th:only-of-type {\n",
       "        vertical-align: middle;\n",
       "    }\n",
       "\n",
       "    .dataframe tbody tr th {\n",
       "        vertical-align: top;\n",
       "    }\n",
       "\n",
       "    .dataframe thead th {\n",
       "        text-align: right;\n",
       "    }\n",
       "</style>\n",
       "<table border=\"1\" class=\"dataframe\">\n",
       "  <thead>\n",
       "    <tr style=\"text-align: right;\">\n",
       "      <th></th>\n",
       "      <th>AAPL</th>\n",
       "      <th>IBM</th>\n",
       "    </tr>\n",
       "    <tr>\n",
       "      <th>Date</th>\n",
       "      <th></th>\n",
       "      <th></th>\n",
       "    </tr>\n",
       "  </thead>\n",
       "  <tbody>\n",
       "    <tr>\n",
       "      <th>2006-01-04</th>\n",
       "      <td>0.002943</td>\n",
       "      <td>-0.001340</td>\n",
       "    </tr>\n",
       "    <tr>\n",
       "      <th>2006-01-05</th>\n",
       "      <td>-0.007870</td>\n",
       "      <td>0.006711</td>\n",
       "    </tr>\n",
       "    <tr>\n",
       "      <th>2006-01-06</th>\n",
       "      <td>0.025813</td>\n",
       "      <td>0.029697</td>\n",
       "    </tr>\n",
       "    <tr>\n",
       "      <th>2006-01-09</th>\n",
       "      <td>-0.003277</td>\n",
       "      <td>-0.014361</td>\n",
       "    </tr>\n",
       "    <tr>\n",
       "      <th>2006-01-10</th>\n",
       "      <td>0.063248</td>\n",
       "      <td>0.004061</td>\n",
       "    </tr>\n",
       "    <tr>\n",
       "      <th>...</th>\n",
       "      <td>...</td>\n",
       "      <td>...</td>\n",
       "    </tr>\n",
       "    <tr>\n",
       "      <th>2013-12-24</th>\n",
       "      <td>-0.004245</td>\n",
       "      <td>0.005433</td>\n",
       "    </tr>\n",
       "    <tr>\n",
       "      <th>2013-12-26</th>\n",
       "      <td>-0.006641</td>\n",
       "      <td>0.011625</td>\n",
       "    </tr>\n",
       "    <tr>\n",
       "      <th>2013-12-27</th>\n",
       "      <td>-0.006757</td>\n",
       "      <td>-0.001457</td>\n",
       "    </tr>\n",
       "    <tr>\n",
       "      <th>2013-12-30</th>\n",
       "      <td>-0.009945</td>\n",
       "      <td>0.007186</td>\n",
       "    </tr>\n",
       "    <tr>\n",
       "      <th>2013-12-31</th>\n",
       "      <td>0.011722</td>\n",
       "      <td>0.006223</td>\n",
       "    </tr>\n",
       "  </tbody>\n",
       "</table>\n",
       "<p>2012 rows × 2 columns</p>\n",
       "</div>"
      ],
      "text/plain": [
       "                AAPL       IBM\n",
       "Date                          \n",
       "2006-01-04  0.002943 -0.001340\n",
       "2006-01-05 -0.007870  0.006711\n",
       "2006-01-06  0.025813  0.029697\n",
       "2006-01-09 -0.003277 -0.014361\n",
       "2006-01-10  0.063248  0.004061\n",
       "...              ...       ...\n",
       "2013-12-24 -0.004245  0.005433\n",
       "2013-12-26 -0.006641  0.011625\n",
       "2013-12-27 -0.006757 -0.001457\n",
       "2013-12-30 -0.009945  0.007186\n",
       "2013-12-31  0.011722  0.006223\n",
       "\n",
       "[2012 rows x 2 columns]"
      ]
     },
     "execution_count": 6,
     "metadata": {},
     "output_type": "execute_result"
    }
   ],
   "source": [
    "pair1_df_train = db.loc[\"2006\":\"2013\",target_df.index[2].split(\",\")].pct_change(1).dropna()\n",
    "pair1_df_test = db.loc[\"2014\":\"2014\",target_df.index[2].split(\",\")].pct_change(1).dropna()\n",
    "pair1_df_train"
   ]
  },
  {
   "cell_type": "code",
   "execution_count": 7,
   "metadata": {},
   "outputs": [],
   "source": [
    "# ytlist = pair1_df_train.iloc[:,0] - pair1_df_train.iloc[:,1]"
   ]
  },
  {
   "cell_type": "code",
   "execution_count": 8,
   "metadata": {
    "ExecuteTime": {
     "end_time": "2023-01-05T15:44:44.714940Z",
     "start_time": "2023-01-05T15:44:44.709144Z"
    }
   },
   "outputs": [],
   "source": [
    "from scipy.stats import t\n",
    "\n",
    "# ytlist = [] #用來收集過去的yt們，算z_td、s_z時會用到\n",
    "\n",
    "# #Table1 參數\n",
    "# fi_1_0 = 0.1046\n",
    "# fi_1_1 = 0.3886\n",
    "# fi_2_0 = 0.0961\n",
    "# fi_2_1 = -0.2403\n",
    "# alpha_1_0 = 0.1639\n",
    "# alpha_1_1 = 0.2132\n",
    "# beta_1_1 = 0.6631\n",
    "# alpha_2_0 = -0.1035\n",
    "# alpha_2_1 = -0.1063\n",
    "# beta_2_1 = -0.1751\n",
    "# v = 7\n",
    "# gamma = 5.5563\n",
    "# c_1 = -0.3569\n",
    "# c_2 = 0.3136\n",
    "# d = 1\n",
    "# z_td = yt[len(yt)-d:-1] #t-d\n",
    "# s_z = std(z_td)\n",
    "\n",
    "# Fdis = (1+np.exp(-gamma*(z_td - c_1)(z_td - c_2))/s_z)**(-1)\n",
    "# h_1_t = alpha_1_0 + alpha_1_1*a_t1**2 + beta_1_1*h_t1\n",
    "# h_2_t = alpha_2_0 + alpha_2_1*a_t1**2 + beta_2_1*h_t1\n",
    "# miu_1 = fi_1_0 + fi_1_1*y_t1\n",
    "# miu_2 = fi_2_0 + fi_2_1*y_t1\n",
    "# h_t = h_1_t + Fdis*h_2_t\n",
    "# epsilon = t.rvs(v, size=1) #t-distribution\n",
    "# a_t = h_t**0.5*epsilon #error term\n",
    "# y_t = miu_1 + Fdis*miu_2 + a_t #ST-GARCH\n"
   ]
  },
  {
   "cell_type": "code",
   "execution_count": 9,
   "metadata": {
    "ExecuteTime": {
     "end_time": "2023-01-05T16:00:06.319689Z",
     "start_time": "2023-01-05T16:00:06.304841Z"
    },
    "scrolled": true
   },
   "outputs": [
    {
     "data": {
      "text/plain": [
       "Date\n",
       "2006-01-04    0.004284\n",
       "2006-01-05   -0.014581\n",
       "2006-01-06   -0.003884\n",
       "2006-01-09    0.011085\n",
       "2006-01-10    0.059187\n",
       "2006-01-11    0.036407\n",
       "2006-01-12    0.011777\n",
       "2006-01-13    0.020210\n",
       "2006-01-17   -0.008238\n",
       "2006-01-18   -0.035846\n",
       "2006-01-19   -0.033351\n",
       "2006-01-20   -0.016502\n",
       "2006-01-23    0.020151\n",
       "2006-01-24   -0.014108\n",
       "2006-01-25   -0.024940\n",
       "2006-01-26   -0.022854\n",
       "2006-01-27   -0.007864\n",
       "2006-01-30    0.033704\n",
       "2006-01-31    0.010843\n",
       "2006-02-01   -0.009064\n",
       "2006-02-02   -0.035355\n",
       "2006-02-03    0.012044\n",
       "2006-02-06   -0.057574\n",
       "2006-02-07    0.000182\n",
       "2006-02-08    0.006002\n",
       "2006-02-09   -0.051146\n",
       "2006-02-10    0.024769\n",
       "2006-02-13   -0.027685\n",
       "2006-02-14    0.037199\n",
       "2006-02-15    0.026319\n",
       "dtype: float64"
      ]
     },
     "execution_count": 9,
     "metadata": {},
     "output_type": "execute_result"
    }
   ],
   "source": [
    "z_td = pair1_df_train.iloc[0:30,0]-pair1_df_train.iloc[0:30,1]\n",
    "z_td"
   ]
  },
  {
   "cell_type": "code",
   "execution_count": 10,
   "metadata": {
    "ExecuteTime": {
     "end_time": "2023-01-05T16:00:07.030191Z",
     "start_time": "2023-01-05T16:00:07.011276Z"
    }
   },
   "outputs": [],
   "source": [
    "# fi_1_0, fi_1_1, fi_2_0, fi_2_1, alpha_1_0, alpha_1_1, beta_1_1, alpha_2_0, alpha_2_1, beta_2_1, v, gamma, c_1, c_2 = np.array([0.1046, 0.3886, 0.0961, -0.2403, 0.1639, 0.2132, 0.6631, -0.1035, -0.1063, -0.1751, 7.1122, 5.5563, -0.3569, 0.3136])\n",
    "# tmp = 30\n",
    "# z_td = pair1_df_train.iloc[0:tmp,0] - pair1_df_train.iloc[0:tmp,1]\n",
    "# s_z = z_td.std()   \n",
    "# Fdis = (1+np.exp(-gamma*(z_td - c_1)*(z_td - c_2)/s_z))**(-1)\n",
    "# Fdis"
   ]
  },
  {
   "cell_type": "code",
   "execution_count": 11,
   "metadata": {
    "ExecuteTime": {
     "end_time": "2023-01-05T16:00:22.405515Z",
     "start_time": "2023-01-05T16:00:22.381441Z"
    }
   },
   "outputs": [],
   "source": [
    "def fun_MLE(x):\n",
    "    fi_1_0, fi_1_1, fi_2_0, fi_2_1, alpha_1_0, alpha_1_1, beta_1_1, alpha_2_0, alpha_2_1, beta_2_1, gamma, c_1, c_2= x\n",
    "    # Define h_t1\n",
    "    tmp = 30\n",
    "    target = 0\n",
    "    z_td = pair1_df_train.iloc[0:tmp,0]-pair1_df_train.iloc[0:tmp,1]\n",
    "    z_td = z_td.to_numpy()\n",
    "    s_z = z_td.std()\n",
    "    Fdis = (1+np.exp(-gamma*(z_td[-1] - c_1)*(z_td[-1] - c_2)/s_z))**(-1)\n",
    "    h_1_t = pair1_df_train.iloc[0:tmp,0].std()\n",
    "    h_2_t = pair1_df_train.iloc[0:tmp,1].std()\n",
    "    h_t1 = h_1_t + Fdis*h_2_t\n",
    "    epsilon = random.gauss(mu = 0, sigma = 1)\n",
    "    a_t1 = h_t1**0.5*epsilon #error term\n",
    "\n",
    "\n",
    "    y_t1 = pair1_df_train.iloc[tmp-1,0] - pair1_df_train.iloc[tmp-1,1]\n",
    "    # Define sigma, real_y_t, y_t\n",
    "    for i in range(tmp,len(pair1_df_train)):\n",
    "        z_td = pair1_df_train.iloc[0:i,0]-pair1_df_train.iloc[0:i,1]\n",
    "        z_td = z_td.to_numpy()\n",
    "        s_z = z_td.std()\n",
    "        real_y_t = pair1_df_train.iloc[i,0] - pair1_df_train.iloc[i,1]\n",
    "        # real_y_t = real_y_t.to_numpy()\n",
    "        h_1_t = alpha_1_0 + alpha_1_1*a_t1**2 + beta_1_1*h_t1\n",
    "        h_2_t = alpha_2_0 + alpha_2_1*a_t1**2 + beta_2_1*h_t1\n",
    "        miu_1 = fi_1_0 + fi_1_1*y_t1\n",
    "        miu_2 = fi_2_0 + fi_2_1*y_t1\n",
    "        h_t = h_1_t + Fdis*h_2_t\n",
    "        epsilon = random.gauss(mu = 0, sigma = 1)\n",
    "        a_t = h_t**0.5*epsilon #error term\n",
    "        y_t = miu_1 + Fdis*miu_2 + a_t #ST-GARCH\n",
    "\n",
    "        h_t1 = h_t\n",
    "        a_t1 = a_t\n",
    "        y_t1 = real_y_t\n",
    "\n",
    "        sigma = h_t\n",
    "        target += np.log((2*np.pi*sigma**2)**(-0.5)*np.exp(-(real_y_t-y_t)**2/(2*sigma**2))) #MLE\n",
    "        # print(target)\n",
    "    target = -target\n",
    "    \n",
    "    return target"
   ]
  },
  {
   "cell_type": "code",
   "execution_count": 12,
   "metadata": {
    "ExecuteTime": {
     "start_time": "2023-01-05T16:00:23.829Z"
    }
   },
   "outputs": [
    {
     "name": "stderr",
     "output_type": "stream",
     "text": [
      "/home/akilin/anaconda3/envs/gamma/lib/python3.7/site-packages/scipy/optimize/_hessian_update_strategy.py:186: UserWarning: delta_grad == 0.0. Check if the approximated function is linear. If the function is linear better results can be obtained by defining the Hessian as zero instead of using quasi-Newton approximations.\n",
      "  'approximations.', UserWarning)\n"
     ]
    },
    {
     "data": {
      "text/plain": [
       " barrier_parameter: 2.048000000000001e-09\n",
       " barrier_tolerance: 2.048000000000001e-09\n",
       "          cg_niter: 1883\n",
       "      cg_stop_cond: 2\n",
       "            constr: [array([0.28411303]), array([0.2219214]), array([0.42594309]), array([0.41195846]), array([0.28477712]), array([0.32769997]), array([7.42880979]), array([0.57405692]), array([0.45213552]), array([0.71007959]), array([ 0.02420719,  0.44285914, -0.1844763 ,  0.0508623 ,  0.28411303,\n",
       "        0.2219214 ,  0.42594309, -0.01502895,  0.19003706, -0.14116597,\n",
       "        4.4183077 , -0.2989415 ,  0.41113809])]\n",
       "       constr_nfev: [7168, 7168, 7168, 7168, 7168, 7168, 7168, 7168, 7168, 7168, 0]\n",
       "       constr_nhev: [0, 0, 0, 0, 0, 0, 0, 0, 0, 0, 0]\n",
       "       constr_njev: [0, 0, 0, 0, 0, 0, 0, 0, 0, 0, 0]\n",
       "    constr_penalty: 1.0\n",
       "  constr_violation: 0.0\n",
       "    execution_time: 3263.6798882484436\n",
       "               fun: 2509.5787668364696\n",
       "              grad: array([ 4.76292688e+09,  9.73581595e+09, -1.14493117e+10,  9.40293618e+09,\n",
       "        9.60021098e+09,  7.38964584e+09,  3.45914393e+09, -1.27083034e+10,\n",
       "        5.77194670e+09, -1.66998073e+09,  1.69995239e+09, -9.26550812e+09,\n",
       "        6.93171055e+09])\n",
       "               jac: [array([[ 0.,  0., -0.,  0.,  1.,  0.,  0., -0.,  0., -0.,  0., -0.,  0.]]), array([[ 0.,  0., -0.,  0.,  0.,  1.,  0., -0.,  0., -0.,  0., -0.,  0.]]), array([[ 0.,  0., -0.,  0.,  0.,  0.,  1., -0.,  0., -0.,  0., -0.,  0.]]), array([[ 0.,  0., -0.,  0.,  0.,  1.,  0., -0.,  1., -0.,  0., -0.,  0.]]), array([[ 0.,  0., -0.,  0.,  0.,  0.,  1., -0.,  0.,  1.,  0., -0.,  0.]]), array([[ 0. ,  0. , -0. ,  0. ,  0. , -1. , -1. , -0. , -0.5, -0.5,  0. ,\n",
       "        -0. ,  0. ]]), array([[ 0.,  0., -0.,  0., -1.,  0.,  0., -0.,  0., -0.,  0., -0.,  0.]]), array([[ 0.,  0., -0.,  0.,  0.,  0., -1., -0.,  0., -0.,  0., -0.,  0.]]), array([[ 0.,  0., -0.,  0.,  0., -1., -1., -0.,  0., -0.,  0., -0.,  0.]]), array([[ 0.,  0., -0.,  0.,  0.,  0.,  0., -0.,  0., -0.,  0., -1.,  1.]]), array([[1., 0., 0., 0., 0., 0., 0., 0., 0., 0., 0., 0., 0.],\n",
       "       [0., 1., 0., 0., 0., 0., 0., 0., 0., 0., 0., 0., 0.],\n",
       "       [0., 0., 1., 0., 0., 0., 0., 0., 0., 0., 0., 0., 0.],\n",
       "       [0., 0., 0., 1., 0., 0., 0., 0., 0., 0., 0., 0., 0.],\n",
       "       [0., 0., 0., 0., 1., 0., 0., 0., 0., 0., 0., 0., 0.],\n",
       "       [0., 0., 0., 0., 0., 1., 0., 0., 0., 0., 0., 0., 0.],\n",
       "       [0., 0., 0., 0., 0., 0., 1., 0., 0., 0., 0., 0., 0.],\n",
       "       [0., 0., 0., 0., 0., 0., 0., 1., 0., 0., 0., 0., 0.],\n",
       "       [0., 0., 0., 0., 0., 0., 0., 0., 1., 0., 0., 0., 0.],\n",
       "       [0., 0., 0., 0., 0., 0., 0., 0., 0., 1., 0., 0., 0.],\n",
       "       [0., 0., 0., 0., 0., 0., 0., 0., 0., 0., 1., 0., 0.],\n",
       "       [0., 0., 0., 0., 0., 0., 0., 0., 0., 0., 0., 1., 0.],\n",
       "       [0., 0., 0., 0., 0., 0., 0., 0., 0., 0., 0., 0., 1.]])]\n",
       "   lagrangian_grad: array([ 1.37082325e+09,  1.53567920e+09, -3.01020463e+09,  2.69199870e+09,\n",
       "        5.72937811e+08,  4.86907666e+07,  1.35300109e+08, -3.66106674e+09,\n",
       "        4.39272941e+08, -2.84838461e+08,  4.28560828e+08, -1.26132291e+09,\n",
       "        5.71680027e+08])\n",
       "           message: '`xtol` termination condition is satisfied.'\n",
       "            method: 'tr_interior_point'\n",
       "              nfev: 7168\n",
       "              nhev: 0\n",
       "               nit: 330\n",
       "             niter: 330\n",
       "              njev: 512\n",
       "        optimality: 3661066735.0645485\n",
       "            status: 2\n",
       "           success: True\n",
       "         tr_radius: 3.886964778693551e-09\n",
       "                 v: [array([-7.09782315e+09]), array([-9.88662897e+08]), array([-7.45752959e+08]), array([-2.87528348e+09]), array([1.84392141e+09]), array([2.43239359e+09]), array([10381712.72160744]), array([4.10570971e+08]), array([9.00034253e+08]), array([-3.635374e+09]), array([-3.39210364e+09, -8.20013676e+09,  8.43910707e+09, -6.71093749e+09,\n",
       "       -1.91906831e+09, -1.44580844e+08, -6.79013448e+08,  9.04723663e+09,\n",
       "       -1.24119348e+09,  7.57417664e+08, -1.27139156e+09,  4.36881121e+09,\n",
       "       -2.72465652e+09])]\n",
       "                 x: array([ 0.02420719,  0.44285914, -0.1844763 ,  0.0508623 ,  0.28411303,\n",
       "        0.2219214 ,  0.42594309, -0.01502895,  0.19003706, -0.14116597,\n",
       "        4.4183077 , -0.2989415 ,  0.41113809])"
      ]
     },
     "execution_count": 12,
     "metadata": {},
     "output_type": "execute_result"
    }
   ],
   "source": [
    "#MLE\n",
    "tmp = 1e-9*4\n",
    "initial = np.array([0.1068, 0.3838, 0.0940, -0.2366, 0.1649, 0.2062, 0.6622, -0.1045, -0.0981, -0.1827, 4.9262, -0.3516, 0.3068]) \n",
    "b1 = ((pair1_df_train.iloc[0:30,0] - pair1_df_train.iloc[0:30,1]).std())**2*10000\n",
    "b2 = 1\n",
    "b3 = 1.1\n",
    "constraints = ( {'type':'ineq','fun':lambda x: x[4]+tmp},\n",
    "                {'type':'ineq','fun':lambda x: x[5]+tmp},\n",
    "                {'type':'ineq','fun':lambda x: x[6]+tmp},\n",
    "                {'type':'ineq','fun':lambda x: x[5]+x[8]+tmp},\n",
    "                {'type':'ineq','fun':lambda x: x[6]+x[9]+tmp},\n",
    "                {'type':'ineq','fun':lambda x:-x[5]-0.5*x[8]-x[6]-0.5*x[9]+1+tmp},\n",
    "                {'type':'ineq','fun':lambda x:-x[4]+b1+tmp},     #b1\n",
    "                {'type':'ineq','fun':lambda x:-x[6]+b2+tmp},     #b2 = 1\n",
    "                {'type':'ineq','fun':lambda x:-x[5]-x[6]+b3+tmp},#b3 = 1.1\n",
    "                {'type':'ineq','fun':lambda x: x[12]-x[11]+tmp} \n",
    "                  )\n",
    "bound = (-0.9,0.9)\n",
    "# bounds = tuple(bound for asset in range(len(initial)))\n",
    "bounds = ((-0.9, 0.9),\n",
    " (-0.9, 0.9),\n",
    " (-0.9, 0.9),\n",
    " (-0.9, 0.9),\n",
    " (-0.9, 0.9),\n",
    " (-0.9, 0.9),\n",
    " (-0.9, 0.9),\n",
    " (-0.9, 0.9),\n",
    " (-0.9, 0.9),\n",
    " (-0.9, 0.9),\n",
    " (-5, 5),\n",
    " (-0.9, 0.9),\n",
    " (-0.9, 0.9))\n",
    "minimum = opt.minimize(fun_MLE, initial, constraints = constraints, method = 'trust-constr', bounds = bounds) #bounds: 0.9\n",
    "minimum"
   ]
  },
  {
   "cell_type": "code",
   "execution_count": 13,
   "metadata": {},
   "outputs": [
    {
     "data": {
      "text/plain": [
       "array([ 0.02420719,  0.44285914, -0.1844763 ,  0.0508623 ,  0.28411303,\n",
       "        0.2219214 ,  0.42594309, -0.01502895,  0.19003706, -0.14116597,\n",
       "        4.4183077 , -0.2989415 ,  0.41113809])"
      ]
     },
     "execution_count": 13,
     "metadata": {},
     "output_type": "execute_result"
    }
   ],
   "source": [
    "minimum.x"
   ]
  },
  {
   "cell_type": "code",
   "execution_count": 14,
   "metadata": {},
   "outputs": [],
   "source": [
    "np.savetxt(str(target_df.index[2].split(\",\")[0])+'_'+str(target_df.index[2].split(\",\")[1])+'.txt', minimum.x, delimiter=',' )"
   ]
  },
  {
   "cell_type": "markdown",
   "metadata": {},
   "source": [
    "# DIS, TRV"
   ]
  },
  {
   "cell_type": "code",
   "execution_count": 15,
   "metadata": {},
   "outputs": [
    {
     "data": {
      "text/plain": [
       "array([ 0.02420719,  0.44285914, -0.1844763 ,  0.0508623 ,  0.28411303,\n",
       "        0.2219214 ,  0.42594309, -0.01502895,  0.19003706, -0.14116597,\n",
       "        4.4183077 , -0.2989415 ,  0.41113809])"
      ]
     },
     "execution_count": 15,
     "metadata": {},
     "output_type": "execute_result"
    }
   ],
   "source": [
    "minimum.x"
   ]
  },
  {
   "cell_type": "code",
   "execution_count": null,
   "metadata": {},
   "outputs": [],
   "source": [
    "thread = np.array([-0.02948677, 0.01797982, -0.04163295, -0.18300756, 0.24184756,\n",
    "0.1925889 , 0.34290173, -0.09508808, 0.16260803, 0.02088205,\n",
    "4.6559201 , -0.31465486, 0.33141209])"
   ]
  },
  {
   "cell_type": "markdown",
   "metadata": {},
   "source": [
    "# Trade"
   ]
  },
  {
   "cell_type": "code",
   "execution_count": 16,
   "metadata": {},
   "outputs": [],
   "source": [
    "df_return = db.pct_change()"
   ]
  },
  {
   "cell_type": "code",
   "execution_count": 17,
   "metadata": {},
   "outputs": [],
   "source": [
    "global results"
   ]
  },
  {
   "cell_type": "code",
   "execution_count": 18,
   "metadata": {},
   "outputs": [],
   "source": [
    "results = {'signals':[],\n",
    "           'returns':[],\n",
    "           'A_SoldPrices':[],\n",
    "           'A_BoughtPrices':[],\n",
    "           'B_SoldPrices':[],\n",
    "           'B_BoughtPrices':[]\n",
    "           }"
   ]
  },
  {
   "cell_type": "code",
   "execution_count": 19,
   "metadata": {},
   "outputs": [],
   "source": [
    "# Input1 : Real return spread\n",
    "# Input2 : Estimated return spread\n",
    "# Output : Gain, Trading Signal\n",
    "\n",
    "y1 = df_return.iloc[-1,0] \n",
    "y2 = df_return.iloc[-1,1]\n",
    "p1 = db.iloc[-1:,0] #A Price\n",
    "p2 = db.iloc[-1,1] #B Price\n",
    "\n",
    "#First trade\n",
    "i = 0\n",
    "\n",
    "#signal\n",
    "tmp0 = 0\n",
    "tmp1 = 1\n",
    "tmp2 = -1\n",
    "\n",
    "#First trade\n",
    "if i == 0:\n",
    "    if (y1 > y2):\n",
    "        signal = tmp1\n",
    "        results['A_SoldPrices'].append(p1)\n",
    "        results['B_BoughtPrices'].append(p2)\n",
    "        i = 1\n",
    "        tmp = 0\n",
    "    \n",
    "    elif (y1 < y2):  \n",
    "        signal = tmp2\n",
    "        results['A_BoughtPrices'].append(p1)\n",
    "        results['B_SoldPrices'].append(p2) \n",
    "        i = 1\n",
    "        tmp = 0\n",
    "    else:\n",
    "        signal = tmp0\n",
    "        i = 0\n",
    "        tmp = 1\n",
    "\n",
    "elif i == 1:\n",
    "    # After first trade\n",
    "    if (y1 > y2) & (results['signals'][-1] == tmp1) :\n",
    "        signal = tmp1\n",
    "        results['A_SoldPrices'].append(y1)\n",
    "        results['B_BoughtPrices'].append(y2)\n",
    "        tmp = -np.log(results['A_SoldPrices'][-1]/results['A_BoughtPrices'][-1])+np.log(results['B_SoldPrices'][-1]/results['B_BoughtPrices'][-1])\n",
    "  \n",
    "    elif (y1 <y2) & (results['signals'][-1] == tmp2):  \n",
    "        signal = tmp2\n",
    "        results['A_BoughtPrices'].append(y1)\n",
    "        results['B_SoldPrices'].append(y2)\n",
    "        tmp = np.log(results['A_SoldPrices'][-1]/results['A_BoughtPrices'][-1])-np.log(results['B_SoldPrices'][-1]/results['B_BoughtPrices'][-1]) \n",
    "\n",
    "    else:\n",
    "        signal = tmp0\n",
    "        tmp = 0\n",
    "\n",
    "\n",
    "results['signals'].append(signal)\n",
    "results['returns'].append(tmp)"
   ]
  }
 ],
 "metadata": {
  "kernelspec": {
   "display_name": "Python 3 (ipykernel)",
   "language": "python",
   "name": "python3"
  },
  "language_info": {
   "codemirror_mode": {
    "name": "ipython",
    "version": 3
   },
   "file_extension": ".py",
   "mimetype": "text/x-python",
   "name": "python",
   "nbconvert_exporter": "python",
   "pygments_lexer": "ipython3",
   "version": "3.7.15"
  },
  "varInspector": {
   "cols": {
    "lenName": 16,
    "lenType": 16,
    "lenVar": "100"
   },
   "kernels_config": {
    "python": {
     "delete_cmd_postfix": "",
     "delete_cmd_prefix": "del ",
     "library": "var_list.py",
     "varRefreshCmd": "print(var_dic_list())"
    },
    "r": {
     "delete_cmd_postfix": ") ",
     "delete_cmd_prefix": "rm(",
     "library": "var_list.r",
     "varRefreshCmd": "cat(var_dic_list()) "
    }
   },
   "oldHeight": 122.852,
   "position": {
    "height": "40px",
    "left": "1170px",
    "right": "20px",
    "top": "120px",
    "width": "250px"
   },
   "types_to_exclude": [
    "module",
    "function",
    "builtin_function_or_method",
    "instance",
    "_Feature"
   ],
   "varInspector_section_display": "none",
   "window_display": true
  },
  "vscode": {
   "interpreter": {
    "hash": "d8341897ff419221d780f9a95c4fa7d04e3c455196529406791fce95faaad134"
   }
  }
 },
 "nbformat": 4,
 "nbformat_minor": 2
}
