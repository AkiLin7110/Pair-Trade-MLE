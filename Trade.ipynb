{
 "cells": [
  {
   "cell_type": "code",
   "execution_count": 6,
   "metadata": {},
   "outputs": [],
   "source": [
    "import pandas as pd\n",
    "import numpy as np\n",
    "\n",
    "import math\n",
    "import scipy.optimize as opt\n",
    "import random\n"
   ]
  },
  {
   "cell_type": "code",
   "execution_count": 7,
   "metadata": {},
   "outputs": [],
   "source": [
    "# Data: Close\n",
    "db = pd.read_excel('Data.xlsx', index_col = \"Date\")\n",
    "df_return = db.pct_change()"
   ]
  },
  {
   "cell_type": "code",
   "execution_count": 8,
   "metadata": {},
   "outputs": [],
   "source": [
    "results = {'signals':[],\n",
    "           'returns':[],\n",
    "           'A_SoldPrices':[],\n",
    "           'A_BoughtPrices':[],\n",
    "           'B_SoldPrices':[],\n",
    "           'B_BoughtPrices':[]\n",
    "           }"
   ]
  },
  {
   "cell_type": "code",
   "execution_count": 9,
   "metadata": {},
   "outputs": [],
   "source": [
    "def trade(y1, bound, p1, p2):\n",
    "    # Input1 : Real return spread\n",
    "    # Input2 : Estimated return spread\n",
    "    # Output : Gain, Trading Signal\n",
    "\n",
    "    y1 = df_return.iloc[-1,0] \n",
    "    bound = [0.3,-0.3]\n",
    "    p1 = db.iloc[-1:,0] #A Price\n",
    "    p2 = db.iloc[-1,1] #B Price\n",
    "\n",
    "    #First trade\n",
    "    i = 0\n",
    "\n",
    "    #signal\n",
    "    tmp0 = 0\n",
    "    tmp1 = 1\n",
    "    tmp2 = -1\n",
    "\n",
    "    #First trade\n",
    "    if i == 0:\n",
    "        if (y1 > bound[0]):\n",
    "            signal = tmp1\n",
    "            results['A_SoldPrices'].append(p1)\n",
    "            results['B_BoughtPrices'].append(p2)\n",
    "            i = 1\n",
    "            tmp = 0\n",
    "        \n",
    "        elif (y1 < bound[1]):  \n",
    "            signal = tmp2\n",
    "            results['A_BoughtPrices'].append(p1)\n",
    "            results['B_SoldPrices'].append(p2) \n",
    "            i = 1\n",
    "            tmp = 0\n",
    "        else:\n",
    "            signal = tmp0\n",
    "            i = 0\n",
    "            tmp = 1\n",
    "\n",
    "    elif i == 1:\n",
    "        # After first trade\n",
    "        if (y1 > bound[0]) & (results['signals'][-1] == tmp1) :\n",
    "            signal = tmp1\n",
    "            results['A_SoldPrices'].append(p1)\n",
    "            results['B_BoughtPrices'].append(p2)\n",
    "            tmp = -np.log(results['A_SoldPrices'][-1]/results['A_BoughtPrices'][-1])+np.log(results['B_SoldPrices'][-1]/results['B_BoughtPrices'][-1])\n",
    "    \n",
    "        elif (y1 < bound[1]) & (results['signals'][-1] == tmp2):  \n",
    "            signal = tmp2\n",
    "            results['A_BoughtPrices'].append(p1)\n",
    "            results['B_SoldPrices'].append(p2)\n",
    "            tmp = np.log(results['A_SoldPrices'][-1]/results['A_BoughtPrices'][-1])-np.log(results['B_SoldPrices'][-1]/results['B_BoughtPrices'][-1]) \n",
    "\n",
    "        else:\n",
    "            signal = tmp0\n",
    "            tmp = 0\n",
    "\n",
    "\n",
    "    results['signals'].append(signal)\n",
    "    results['returns'].append(tmp)"
   ]
  }
 ],
 "metadata": {
  "kernelspec": {
   "display_name": "Python 3.8.10 64-bit",
   "language": "python",
   "name": "python3"
  },
  "language_info": {
   "codemirror_mode": {
    "name": "ipython",
    "version": 3
   },
   "file_extension": ".py",
   "mimetype": "text/x-python",
   "name": "python",
   "nbconvert_exporter": "python",
   "pygments_lexer": "ipython3",
   "version": "3.8.10"
  },
  "orig_nbformat": 4,
  "vscode": {
   "interpreter": {
    "hash": "916dbcbb3f70747c44a77c7bcd40155683ae19c65e1c03b4aa3499c5328201f1"
   }
  }
 },
 "nbformat": 4,
 "nbformat_minor": 2
}
